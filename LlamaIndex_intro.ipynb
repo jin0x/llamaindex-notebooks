{
  "nbformat": 4,
  "nbformat_minor": 0,
  "metadata": {
    "colab": {
      "provenance": [],
      "gpuType": "T4",
      "include_colab_link": true
    },
    "kernelspec": {
      "name": "python3",
      "display_name": "Python 3"
    },
    "language_info": {
      "name": "python"
    },
    "accelerator": "GPU",
    "widgets": {
      "application/vnd.jupyter.widget-state+json": {
        "3e8d04df26c146efa10acde157f2bc58": {
          "model_module": "@jupyter-widgets/controls",
          "model_name": "HBoxModel",
          "model_module_version": "1.5.0",
          "state": {
            "_dom_classes": [],
            "_model_module": "@jupyter-widgets/controls",
            "_model_module_version": "1.5.0",
            "_model_name": "HBoxModel",
            "_view_count": null,
            "_view_module": "@jupyter-widgets/controls",
            "_view_module_version": "1.5.0",
            "_view_name": "HBoxView",
            "box_style": "",
            "children": [
              "IPY_MODEL_df61ea4bf4ad4334af0c0d3330b32289",
              "IPY_MODEL_eedb2ddaaf6944a696a45de8bb144efd",
              "IPY_MODEL_20d8969f10af41c6b91d4a81bd9518ab"
            ],
            "layout": "IPY_MODEL_019bab4c5e18445095dc0a514f87fc53"
          }
        },
        "df61ea4bf4ad4334af0c0d3330b32289": {
          "model_module": "@jupyter-widgets/controls",
          "model_name": "HTMLModel",
          "model_module_version": "1.5.0",
          "state": {
            "_dom_classes": [],
            "_model_module": "@jupyter-widgets/controls",
            "_model_module_version": "1.5.0",
            "_model_name": "HTMLModel",
            "_view_count": null,
            "_view_module": "@jupyter-widgets/controls",
            "_view_module_version": "1.5.0",
            "_view_name": "HTMLView",
            "description": "",
            "description_tooltip": null,
            "layout": "IPY_MODEL_5ee737cdf9c64cbc90f686194c766d37",
            "placeholder": "​",
            "style": "IPY_MODEL_803861f792d743c38c5ceca6cb9878b8",
            "value": "Downloading (…)lve/main/config.json: 100%"
          }
        },
        "eedb2ddaaf6944a696a45de8bb144efd": {
          "model_module": "@jupyter-widgets/controls",
          "model_name": "FloatProgressModel",
          "model_module_version": "1.5.0",
          "state": {
            "_dom_classes": [],
            "_model_module": "@jupyter-widgets/controls",
            "_model_module_version": "1.5.0",
            "_model_name": "FloatProgressModel",
            "_view_count": null,
            "_view_module": "@jupyter-widgets/controls",
            "_view_module_version": "1.5.0",
            "_view_name": "ProgressView",
            "bar_style": "success",
            "description": "",
            "description_tooltip": null,
            "layout": "IPY_MODEL_7ba242140e844d08bdbe66b363a5020f",
            "max": 606,
            "min": 0,
            "orientation": "horizontal",
            "style": "IPY_MODEL_999c3d66df55442c87f4815e5811949f",
            "value": 606
          }
        },
        "20d8969f10af41c6b91d4a81bd9518ab": {
          "model_module": "@jupyter-widgets/controls",
          "model_name": "HTMLModel",
          "model_module_version": "1.5.0",
          "state": {
            "_dom_classes": [],
            "_model_module": "@jupyter-widgets/controls",
            "_model_module_version": "1.5.0",
            "_model_name": "HTMLModel",
            "_view_count": null,
            "_view_module": "@jupyter-widgets/controls",
            "_view_module_version": "1.5.0",
            "_view_name": "HTMLView",
            "description": "",
            "description_tooltip": null,
            "layout": "IPY_MODEL_b8c86d0fd26b457d9978fe38331040c0",
            "placeholder": "​",
            "style": "IPY_MODEL_bfa3ed1ab0bb42e9a70666093826ed71",
            "value": " 606/606 [00:00&lt;00:00, 21.4kB/s]"
          }
        },
        "019bab4c5e18445095dc0a514f87fc53": {
          "model_module": "@jupyter-widgets/base",
          "model_name": "LayoutModel",
          "model_module_version": "1.2.0",
          "state": {
            "_model_module": "@jupyter-widgets/base",
            "_model_module_version": "1.2.0",
            "_model_name": "LayoutModel",
            "_view_count": null,
            "_view_module": "@jupyter-widgets/base",
            "_view_module_version": "1.2.0",
            "_view_name": "LayoutView",
            "align_content": null,
            "align_items": null,
            "align_self": null,
            "border": null,
            "bottom": null,
            "display": null,
            "flex": null,
            "flex_flow": null,
            "grid_area": null,
            "grid_auto_columns": null,
            "grid_auto_flow": null,
            "grid_auto_rows": null,
            "grid_column": null,
            "grid_gap": null,
            "grid_row": null,
            "grid_template_areas": null,
            "grid_template_columns": null,
            "grid_template_rows": null,
            "height": null,
            "justify_content": null,
            "justify_items": null,
            "left": null,
            "margin": null,
            "max_height": null,
            "max_width": null,
            "min_height": null,
            "min_width": null,
            "object_fit": null,
            "object_position": null,
            "order": null,
            "overflow": null,
            "overflow_x": null,
            "overflow_y": null,
            "padding": null,
            "right": null,
            "top": null,
            "visibility": null,
            "width": null
          }
        },
        "5ee737cdf9c64cbc90f686194c766d37": {
          "model_module": "@jupyter-widgets/base",
          "model_name": "LayoutModel",
          "model_module_version": "1.2.0",
          "state": {
            "_model_module": "@jupyter-widgets/base",
            "_model_module_version": "1.2.0",
            "_model_name": "LayoutModel",
            "_view_count": null,
            "_view_module": "@jupyter-widgets/base",
            "_view_module_version": "1.2.0",
            "_view_name": "LayoutView",
            "align_content": null,
            "align_items": null,
            "align_self": null,
            "border": null,
            "bottom": null,
            "display": null,
            "flex": null,
            "flex_flow": null,
            "grid_area": null,
            "grid_auto_columns": null,
            "grid_auto_flow": null,
            "grid_auto_rows": null,
            "grid_column": null,
            "grid_gap": null,
            "grid_row": null,
            "grid_template_areas": null,
            "grid_template_columns": null,
            "grid_template_rows": null,
            "height": null,
            "justify_content": null,
            "justify_items": null,
            "left": null,
            "margin": null,
            "max_height": null,
            "max_width": null,
            "min_height": null,
            "min_width": null,
            "object_fit": null,
            "object_position": null,
            "order": null,
            "overflow": null,
            "overflow_x": null,
            "overflow_y": null,
            "padding": null,
            "right": null,
            "top": null,
            "visibility": null,
            "width": null
          }
        },
        "803861f792d743c38c5ceca6cb9878b8": {
          "model_module": "@jupyter-widgets/controls",
          "model_name": "DescriptionStyleModel",
          "model_module_version": "1.5.0",
          "state": {
            "_model_module": "@jupyter-widgets/controls",
            "_model_module_version": "1.5.0",
            "_model_name": "DescriptionStyleModel",
            "_view_count": null,
            "_view_module": "@jupyter-widgets/base",
            "_view_module_version": "1.2.0",
            "_view_name": "StyleView",
            "description_width": ""
          }
        },
        "7ba242140e844d08bdbe66b363a5020f": {
          "model_module": "@jupyter-widgets/base",
          "model_name": "LayoutModel",
          "model_module_version": "1.2.0",
          "state": {
            "_model_module": "@jupyter-widgets/base",
            "_model_module_version": "1.2.0",
            "_model_name": "LayoutModel",
            "_view_count": null,
            "_view_module": "@jupyter-widgets/base",
            "_view_module_version": "1.2.0",
            "_view_name": "LayoutView",
            "align_content": null,
            "align_items": null,
            "align_self": null,
            "border": null,
            "bottom": null,
            "display": null,
            "flex": null,
            "flex_flow": null,
            "grid_area": null,
            "grid_auto_columns": null,
            "grid_auto_flow": null,
            "grid_auto_rows": null,
            "grid_column": null,
            "grid_gap": null,
            "grid_row": null,
            "grid_template_areas": null,
            "grid_template_columns": null,
            "grid_template_rows": null,
            "height": null,
            "justify_content": null,
            "justify_items": null,
            "left": null,
            "margin": null,
            "max_height": null,
            "max_width": null,
            "min_height": null,
            "min_width": null,
            "object_fit": null,
            "object_position": null,
            "order": null,
            "overflow": null,
            "overflow_x": null,
            "overflow_y": null,
            "padding": null,
            "right": null,
            "top": null,
            "visibility": null,
            "width": null
          }
        },
        "999c3d66df55442c87f4815e5811949f": {
          "model_module": "@jupyter-widgets/controls",
          "model_name": "ProgressStyleModel",
          "model_module_version": "1.5.0",
          "state": {
            "_model_module": "@jupyter-widgets/controls",
            "_model_module_version": "1.5.0",
            "_model_name": "ProgressStyleModel",
            "_view_count": null,
            "_view_module": "@jupyter-widgets/base",
            "_view_module_version": "1.2.0",
            "_view_name": "StyleView",
            "bar_color": null,
            "description_width": ""
          }
        },
        "b8c86d0fd26b457d9978fe38331040c0": {
          "model_module": "@jupyter-widgets/base",
          "model_name": "LayoutModel",
          "model_module_version": "1.2.0",
          "state": {
            "_model_module": "@jupyter-widgets/base",
            "_model_module_version": "1.2.0",
            "_model_name": "LayoutModel",
            "_view_count": null,
            "_view_module": "@jupyter-widgets/base",
            "_view_module_version": "1.2.0",
            "_view_name": "LayoutView",
            "align_content": null,
            "align_items": null,
            "align_self": null,
            "border": null,
            "bottom": null,
            "display": null,
            "flex": null,
            "flex_flow": null,
            "grid_area": null,
            "grid_auto_columns": null,
            "grid_auto_flow": null,
            "grid_auto_rows": null,
            "grid_column": null,
            "grid_gap": null,
            "grid_row": null,
            "grid_template_areas": null,
            "grid_template_columns": null,
            "grid_template_rows": null,
            "height": null,
            "justify_content": null,
            "justify_items": null,
            "left": null,
            "margin": null,
            "max_height": null,
            "max_width": null,
            "min_height": null,
            "min_width": null,
            "object_fit": null,
            "object_position": null,
            "order": null,
            "overflow": null,
            "overflow_x": null,
            "overflow_y": null,
            "padding": null,
            "right": null,
            "top": null,
            "visibility": null,
            "width": null
          }
        },
        "bfa3ed1ab0bb42e9a70666093826ed71": {
          "model_module": "@jupyter-widgets/controls",
          "model_name": "DescriptionStyleModel",
          "model_module_version": "1.5.0",
          "state": {
            "_model_module": "@jupyter-widgets/controls",
            "_model_module_version": "1.5.0",
            "_model_name": "DescriptionStyleModel",
            "_view_count": null,
            "_view_module": "@jupyter-widgets/base",
            "_view_module_version": "1.2.0",
            "_view_name": "StyleView",
            "description_width": ""
          }
        },
        "91367a64e1454523a224cd219fcadd99": {
          "model_module": "@jupyter-widgets/controls",
          "model_name": "HBoxModel",
          "model_module_version": "1.5.0",
          "state": {
            "_dom_classes": [],
            "_model_module": "@jupyter-widgets/controls",
            "_model_module_version": "1.5.0",
            "_model_name": "HBoxModel",
            "_view_count": null,
            "_view_module": "@jupyter-widgets/controls",
            "_view_module_version": "1.5.0",
            "_view_name": "HBoxView",
            "box_style": "",
            "children": [
              "IPY_MODEL_bd6c5eff40e04ecaac85b1b49cbcbc21",
              "IPY_MODEL_0c9c2c080dfc426d923dea88fc6404a4",
              "IPY_MODEL_89f53242637b4af3b23e58791de152fd"
            ],
            "layout": "IPY_MODEL_9308158b4ab84bc88be727667472cfd6"
          }
        },
        "bd6c5eff40e04ecaac85b1b49cbcbc21": {
          "model_module": "@jupyter-widgets/controls",
          "model_name": "HTMLModel",
          "model_module_version": "1.5.0",
          "state": {
            "_dom_classes": [],
            "_model_module": "@jupyter-widgets/controls",
            "_model_module_version": "1.5.0",
            "_model_name": "HTMLModel",
            "_view_count": null,
            "_view_module": "@jupyter-widgets/controls",
            "_view_module_version": "1.5.0",
            "_view_name": "HTMLView",
            "description": "",
            "description_tooltip": null,
            "layout": "IPY_MODEL_0356baf74bcd442eb7f16b4e5aa585be",
            "placeholder": "​",
            "style": "IPY_MODEL_402644052a73436da4c7a0772e9fa43e",
            "value": "Downloading (…)model.bin.index.json: 100%"
          }
        },
        "0c9c2c080dfc426d923dea88fc6404a4": {
          "model_module": "@jupyter-widgets/controls",
          "model_name": "FloatProgressModel",
          "model_module_version": "1.5.0",
          "state": {
            "_dom_classes": [],
            "_model_module": "@jupyter-widgets/controls",
            "_model_module_version": "1.5.0",
            "_model_name": "FloatProgressModel",
            "_view_count": null,
            "_view_module": "@jupyter-widgets/controls",
            "_view_module_version": "1.5.0",
            "_view_name": "ProgressView",
            "bar_style": "success",
            "description": "",
            "description_tooltip": null,
            "layout": "IPY_MODEL_002b777729a94bbd98a385895084a21c",
            "max": 21118,
            "min": 0,
            "orientation": "horizontal",
            "style": "IPY_MODEL_71bcd0115646455e97831276bc929a2b",
            "value": 21118
          }
        },
        "89f53242637b4af3b23e58791de152fd": {
          "model_module": "@jupyter-widgets/controls",
          "model_name": "HTMLModel",
          "model_module_version": "1.5.0",
          "state": {
            "_dom_classes": [],
            "_model_module": "@jupyter-widgets/controls",
            "_model_module_version": "1.5.0",
            "_model_name": "HTMLModel",
            "_view_count": null,
            "_view_module": "@jupyter-widgets/controls",
            "_view_module_version": "1.5.0",
            "_view_name": "HTMLView",
            "description": "",
            "description_tooltip": null,
            "layout": "IPY_MODEL_dba8b3b0d51641a2853ef70b01bcfcda",
            "placeholder": "​",
            "style": "IPY_MODEL_a4fce4a28bf54e0f92215c10d5bdfadb",
            "value": " 21.1k/21.1k [00:00&lt;00:00, 681kB/s]"
          }
        },
        "9308158b4ab84bc88be727667472cfd6": {
          "model_module": "@jupyter-widgets/base",
          "model_name": "LayoutModel",
          "model_module_version": "1.2.0",
          "state": {
            "_model_module": "@jupyter-widgets/base",
            "_model_module_version": "1.2.0",
            "_model_name": "LayoutModel",
            "_view_count": null,
            "_view_module": "@jupyter-widgets/base",
            "_view_module_version": "1.2.0",
            "_view_name": "LayoutView",
            "align_content": null,
            "align_items": null,
            "align_self": null,
            "border": null,
            "bottom": null,
            "display": null,
            "flex": null,
            "flex_flow": null,
            "grid_area": null,
            "grid_auto_columns": null,
            "grid_auto_flow": null,
            "grid_auto_rows": null,
            "grid_column": null,
            "grid_gap": null,
            "grid_row": null,
            "grid_template_areas": null,
            "grid_template_columns": null,
            "grid_template_rows": null,
            "height": null,
            "justify_content": null,
            "justify_items": null,
            "left": null,
            "margin": null,
            "max_height": null,
            "max_width": null,
            "min_height": null,
            "min_width": null,
            "object_fit": null,
            "object_position": null,
            "order": null,
            "overflow": null,
            "overflow_x": null,
            "overflow_y": null,
            "padding": null,
            "right": null,
            "top": null,
            "visibility": null,
            "width": null
          }
        },
        "0356baf74bcd442eb7f16b4e5aa585be": {
          "model_module": "@jupyter-widgets/base",
          "model_name": "LayoutModel",
          "model_module_version": "1.2.0",
          "state": {
            "_model_module": "@jupyter-widgets/base",
            "_model_module_version": "1.2.0",
            "_model_name": "LayoutModel",
            "_view_count": null,
            "_view_module": "@jupyter-widgets/base",
            "_view_module_version": "1.2.0",
            "_view_name": "LayoutView",
            "align_content": null,
            "align_items": null,
            "align_self": null,
            "border": null,
            "bottom": null,
            "display": null,
            "flex": null,
            "flex_flow": null,
            "grid_area": null,
            "grid_auto_columns": null,
            "grid_auto_flow": null,
            "grid_auto_rows": null,
            "grid_column": null,
            "grid_gap": null,
            "grid_row": null,
            "grid_template_areas": null,
            "grid_template_columns": null,
            "grid_template_rows": null,
            "height": null,
            "justify_content": null,
            "justify_items": null,
            "left": null,
            "margin": null,
            "max_height": null,
            "max_width": null,
            "min_height": null,
            "min_width": null,
            "object_fit": null,
            "object_position": null,
            "order": null,
            "overflow": null,
            "overflow_x": null,
            "overflow_y": null,
            "padding": null,
            "right": null,
            "top": null,
            "visibility": null,
            "width": null
          }
        },
        "402644052a73436da4c7a0772e9fa43e": {
          "model_module": "@jupyter-widgets/controls",
          "model_name": "DescriptionStyleModel",
          "model_module_version": "1.5.0",
          "state": {
            "_model_module": "@jupyter-widgets/controls",
            "_model_module_version": "1.5.0",
            "_model_name": "DescriptionStyleModel",
            "_view_count": null,
            "_view_module": "@jupyter-widgets/base",
            "_view_module_version": "1.2.0",
            "_view_name": "StyleView",
            "description_width": ""
          }
        },
        "002b777729a94bbd98a385895084a21c": {
          "model_module": "@jupyter-widgets/base",
          "model_name": "LayoutModel",
          "model_module_version": "1.2.0",
          "state": {
            "_model_module": "@jupyter-widgets/base",
            "_model_module_version": "1.2.0",
            "_model_name": "LayoutModel",
            "_view_count": null,
            "_view_module": "@jupyter-widgets/base",
            "_view_module_version": "1.2.0",
            "_view_name": "LayoutView",
            "align_content": null,
            "align_items": null,
            "align_self": null,
            "border": null,
            "bottom": null,
            "display": null,
            "flex": null,
            "flex_flow": null,
            "grid_area": null,
            "grid_auto_columns": null,
            "grid_auto_flow": null,
            "grid_auto_rows": null,
            "grid_column": null,
            "grid_gap": null,
            "grid_row": null,
            "grid_template_areas": null,
            "grid_template_columns": null,
            "grid_template_rows": null,
            "height": null,
            "justify_content": null,
            "justify_items": null,
            "left": null,
            "margin": null,
            "max_height": null,
            "max_width": null,
            "min_height": null,
            "min_width": null,
            "object_fit": null,
            "object_position": null,
            "order": null,
            "overflow": null,
            "overflow_x": null,
            "overflow_y": null,
            "padding": null,
            "right": null,
            "top": null,
            "visibility": null,
            "width": null
          }
        },
        "71bcd0115646455e97831276bc929a2b": {
          "model_module": "@jupyter-widgets/controls",
          "model_name": "ProgressStyleModel",
          "model_module_version": "1.5.0",
          "state": {
            "_model_module": "@jupyter-widgets/controls",
            "_model_module_version": "1.5.0",
            "_model_name": "ProgressStyleModel",
            "_view_count": null,
            "_view_module": "@jupyter-widgets/base",
            "_view_module_version": "1.2.0",
            "_view_name": "StyleView",
            "bar_color": null,
            "description_width": ""
          }
        },
        "dba8b3b0d51641a2853ef70b01bcfcda": {
          "model_module": "@jupyter-widgets/base",
          "model_name": "LayoutModel",
          "model_module_version": "1.2.0",
          "state": {
            "_model_module": "@jupyter-widgets/base",
            "_model_module_version": "1.2.0",
            "_model_name": "LayoutModel",
            "_view_count": null,
            "_view_module": "@jupyter-widgets/base",
            "_view_module_version": "1.2.0",
            "_view_name": "LayoutView",
            "align_content": null,
            "align_items": null,
            "align_self": null,
            "border": null,
            "bottom": null,
            "display": null,
            "flex": null,
            "flex_flow": null,
            "grid_area": null,
            "grid_auto_columns": null,
            "grid_auto_flow": null,
            "grid_auto_rows": null,
            "grid_column": null,
            "grid_gap": null,
            "grid_row": null,
            "grid_template_areas": null,
            "grid_template_columns": null,
            "grid_template_rows": null,
            "height": null,
            "justify_content": null,
            "justify_items": null,
            "left": null,
            "margin": null,
            "max_height": null,
            "max_width": null,
            "min_height": null,
            "min_width": null,
            "object_fit": null,
            "object_position": null,
            "order": null,
            "overflow": null,
            "overflow_x": null,
            "overflow_y": null,
            "padding": null,
            "right": null,
            "top": null,
            "visibility": null,
            "width": null
          }
        },
        "a4fce4a28bf54e0f92215c10d5bdfadb": {
          "model_module": "@jupyter-widgets/controls",
          "model_name": "DescriptionStyleModel",
          "model_module_version": "1.5.0",
          "state": {
            "_model_module": "@jupyter-widgets/controls",
            "_model_module_version": "1.5.0",
            "_model_name": "DescriptionStyleModel",
            "_view_count": null,
            "_view_module": "@jupyter-widgets/base",
            "_view_module_version": "1.2.0",
            "_view_name": "StyleView",
            "description_width": ""
          }
        },
        "491bc2364a8f45bc849f8615a273d6f3": {
          "model_module": "@jupyter-widgets/controls",
          "model_name": "HBoxModel",
          "model_module_version": "1.5.0",
          "state": {
            "_dom_classes": [],
            "_model_module": "@jupyter-widgets/controls",
            "_model_module_version": "1.5.0",
            "_model_name": "HBoxModel",
            "_view_count": null,
            "_view_module": "@jupyter-widgets/controls",
            "_view_module_version": "1.5.0",
            "_view_name": "HBoxView",
            "box_style": "",
            "children": [
              "IPY_MODEL_b88ff50e1a6b4af09e50130ea43579cf",
              "IPY_MODEL_77a82f28cbd045b2a2f24acc296e996a",
              "IPY_MODEL_765a44caceac4d94a81f2a5120210f18"
            ],
            "layout": "IPY_MODEL_d0b9b7c82b36448d82d8e1710704601f"
          }
        },
        "b88ff50e1a6b4af09e50130ea43579cf": {
          "model_module": "@jupyter-widgets/controls",
          "model_name": "HTMLModel",
          "model_module_version": "1.5.0",
          "state": {
            "_dom_classes": [],
            "_model_module": "@jupyter-widgets/controls",
            "_model_module_version": "1.5.0",
            "_model_name": "HTMLModel",
            "_view_count": null,
            "_view_module": "@jupyter-widgets/controls",
            "_view_module_version": "1.5.0",
            "_view_name": "HTMLView",
            "description": "",
            "description_tooltip": null,
            "layout": "IPY_MODEL_8b95ebed7f414b239eef49ff08712322",
            "placeholder": "​",
            "style": "IPY_MODEL_efe7d276fdd64a938f95ffd08c4c45d0",
            "value": "Downloading shards:   0%"
          }
        },
        "77a82f28cbd045b2a2f24acc296e996a": {
          "model_module": "@jupyter-widgets/controls",
          "model_name": "FloatProgressModel",
          "model_module_version": "1.5.0",
          "state": {
            "_dom_classes": [],
            "_model_module": "@jupyter-widgets/controls",
            "_model_module_version": "1.5.0",
            "_model_name": "FloatProgressModel",
            "_view_count": null,
            "_view_module": "@jupyter-widgets/controls",
            "_view_module_version": "1.5.0",
            "_view_name": "ProgressView",
            "bar_style": "danger",
            "description": "",
            "description_tooltip": null,
            "layout": "IPY_MODEL_31a078f77b904c269d954846ee2c3999",
            "max": 2,
            "min": 0,
            "orientation": "horizontal",
            "style": "IPY_MODEL_01b0fee9151b48acb8604dd142329131",
            "value": 0
          }
        },
        "765a44caceac4d94a81f2a5120210f18": {
          "model_module": "@jupyter-widgets/controls",
          "model_name": "HTMLModel",
          "model_module_version": "1.5.0",
          "state": {
            "_dom_classes": [],
            "_model_module": "@jupyter-widgets/controls",
            "_model_module_version": "1.5.0",
            "_model_name": "HTMLModel",
            "_view_count": null,
            "_view_module": "@jupyter-widgets/controls",
            "_view_module_version": "1.5.0",
            "_view_name": "HTMLView",
            "description": "",
            "description_tooltip": null,
            "layout": "IPY_MODEL_1df9f7f5e02c48d696e1ed656c1ad978",
            "placeholder": "​",
            "style": "IPY_MODEL_531cb43ef87b4b448a14b5b518c86fa0",
            "value": " 0/2 [03:28&lt;?, ?it/s]"
          }
        },
        "d0b9b7c82b36448d82d8e1710704601f": {
          "model_module": "@jupyter-widgets/base",
          "model_name": "LayoutModel",
          "model_module_version": "1.2.0",
          "state": {
            "_model_module": "@jupyter-widgets/base",
            "_model_module_version": "1.2.0",
            "_model_name": "LayoutModel",
            "_view_count": null,
            "_view_module": "@jupyter-widgets/base",
            "_view_module_version": "1.2.0",
            "_view_name": "LayoutView",
            "align_content": null,
            "align_items": null,
            "align_self": null,
            "border": null,
            "bottom": null,
            "display": null,
            "flex": null,
            "flex_flow": null,
            "grid_area": null,
            "grid_auto_columns": null,
            "grid_auto_flow": null,
            "grid_auto_rows": null,
            "grid_column": null,
            "grid_gap": null,
            "grid_row": null,
            "grid_template_areas": null,
            "grid_template_columns": null,
            "grid_template_rows": null,
            "height": null,
            "justify_content": null,
            "justify_items": null,
            "left": null,
            "margin": null,
            "max_height": null,
            "max_width": null,
            "min_height": null,
            "min_width": null,
            "object_fit": null,
            "object_position": null,
            "order": null,
            "overflow": null,
            "overflow_x": null,
            "overflow_y": null,
            "padding": null,
            "right": null,
            "top": null,
            "visibility": null,
            "width": null
          }
        },
        "8b95ebed7f414b239eef49ff08712322": {
          "model_module": "@jupyter-widgets/base",
          "model_name": "LayoutModel",
          "model_module_version": "1.2.0",
          "state": {
            "_model_module": "@jupyter-widgets/base",
            "_model_module_version": "1.2.0",
            "_model_name": "LayoutModel",
            "_view_count": null,
            "_view_module": "@jupyter-widgets/base",
            "_view_module_version": "1.2.0",
            "_view_name": "LayoutView",
            "align_content": null,
            "align_items": null,
            "align_self": null,
            "border": null,
            "bottom": null,
            "display": null,
            "flex": null,
            "flex_flow": null,
            "grid_area": null,
            "grid_auto_columns": null,
            "grid_auto_flow": null,
            "grid_auto_rows": null,
            "grid_column": null,
            "grid_gap": null,
            "grid_row": null,
            "grid_template_areas": null,
            "grid_template_columns": null,
            "grid_template_rows": null,
            "height": null,
            "justify_content": null,
            "justify_items": null,
            "left": null,
            "margin": null,
            "max_height": null,
            "max_width": null,
            "min_height": null,
            "min_width": null,
            "object_fit": null,
            "object_position": null,
            "order": null,
            "overflow": null,
            "overflow_x": null,
            "overflow_y": null,
            "padding": null,
            "right": null,
            "top": null,
            "visibility": null,
            "width": null
          }
        },
        "efe7d276fdd64a938f95ffd08c4c45d0": {
          "model_module": "@jupyter-widgets/controls",
          "model_name": "DescriptionStyleModel",
          "model_module_version": "1.5.0",
          "state": {
            "_model_module": "@jupyter-widgets/controls",
            "_model_module_version": "1.5.0",
            "_model_name": "DescriptionStyleModel",
            "_view_count": null,
            "_view_module": "@jupyter-widgets/base",
            "_view_module_version": "1.2.0",
            "_view_name": "StyleView",
            "description_width": ""
          }
        },
        "31a078f77b904c269d954846ee2c3999": {
          "model_module": "@jupyter-widgets/base",
          "model_name": "LayoutModel",
          "model_module_version": "1.2.0",
          "state": {
            "_model_module": "@jupyter-widgets/base",
            "_model_module_version": "1.2.0",
            "_model_name": "LayoutModel",
            "_view_count": null,
            "_view_module": "@jupyter-widgets/base",
            "_view_module_version": "1.2.0",
            "_view_name": "LayoutView",
            "align_content": null,
            "align_items": null,
            "align_self": null,
            "border": null,
            "bottom": null,
            "display": null,
            "flex": null,
            "flex_flow": null,
            "grid_area": null,
            "grid_auto_columns": null,
            "grid_auto_flow": null,
            "grid_auto_rows": null,
            "grid_column": null,
            "grid_gap": null,
            "grid_row": null,
            "grid_template_areas": null,
            "grid_template_columns": null,
            "grid_template_rows": null,
            "height": null,
            "justify_content": null,
            "justify_items": null,
            "left": null,
            "margin": null,
            "max_height": null,
            "max_width": null,
            "min_height": null,
            "min_width": null,
            "object_fit": null,
            "object_position": null,
            "order": null,
            "overflow": null,
            "overflow_x": null,
            "overflow_y": null,
            "padding": null,
            "right": null,
            "top": null,
            "visibility": null,
            "width": null
          }
        },
        "01b0fee9151b48acb8604dd142329131": {
          "model_module": "@jupyter-widgets/controls",
          "model_name": "ProgressStyleModel",
          "model_module_version": "1.5.0",
          "state": {
            "_model_module": "@jupyter-widgets/controls",
            "_model_module_version": "1.5.0",
            "_model_name": "ProgressStyleModel",
            "_view_count": null,
            "_view_module": "@jupyter-widgets/base",
            "_view_module_version": "1.2.0",
            "_view_name": "StyleView",
            "bar_color": null,
            "description_width": ""
          }
        },
        "1df9f7f5e02c48d696e1ed656c1ad978": {
          "model_module": "@jupyter-widgets/base",
          "model_name": "LayoutModel",
          "model_module_version": "1.2.0",
          "state": {
            "_model_module": "@jupyter-widgets/base",
            "_model_module_version": "1.2.0",
            "_model_name": "LayoutModel",
            "_view_count": null,
            "_view_module": "@jupyter-widgets/base",
            "_view_module_version": "1.2.0",
            "_view_name": "LayoutView",
            "align_content": null,
            "align_items": null,
            "align_self": null,
            "border": null,
            "bottom": null,
            "display": null,
            "flex": null,
            "flex_flow": null,
            "grid_area": null,
            "grid_auto_columns": null,
            "grid_auto_flow": null,
            "grid_auto_rows": null,
            "grid_column": null,
            "grid_gap": null,
            "grid_row": null,
            "grid_template_areas": null,
            "grid_template_columns": null,
            "grid_template_rows": null,
            "height": null,
            "justify_content": null,
            "justify_items": null,
            "left": null,
            "margin": null,
            "max_height": null,
            "max_width": null,
            "min_height": null,
            "min_width": null,
            "object_fit": null,
            "object_position": null,
            "order": null,
            "overflow": null,
            "overflow_x": null,
            "overflow_y": null,
            "padding": null,
            "right": null,
            "top": null,
            "visibility": null,
            "width": null
          }
        },
        "531cb43ef87b4b448a14b5b518c86fa0": {
          "model_module": "@jupyter-widgets/controls",
          "model_name": "DescriptionStyleModel",
          "model_module_version": "1.5.0",
          "state": {
            "_model_module": "@jupyter-widgets/controls",
            "_model_module_version": "1.5.0",
            "_model_name": "DescriptionStyleModel",
            "_view_count": null,
            "_view_module": "@jupyter-widgets/base",
            "_view_module_version": "1.2.0",
            "_view_name": "StyleView",
            "description_width": ""
          }
        },
        "c860903b36914a0db6f91a97c9989d89": {
          "model_module": "@jupyter-widgets/controls",
          "model_name": "HBoxModel",
          "model_module_version": "1.5.0",
          "state": {
            "_dom_classes": [],
            "_model_module": "@jupyter-widgets/controls",
            "_model_module_version": "1.5.0",
            "_model_name": "HBoxModel",
            "_view_count": null,
            "_view_module": "@jupyter-widgets/controls",
            "_view_module_version": "1.5.0",
            "_view_name": "HBoxView",
            "box_style": "",
            "children": [
              "IPY_MODEL_03b7e2c08747493c9b5d204dda4c53c5",
              "IPY_MODEL_332728fe7f154ca78e8e462cf2e958a4",
              "IPY_MODEL_56c5bce4376a4cfca0d8d47e631366f6"
            ],
            "layout": "IPY_MODEL_6eba307da8634304905c62027d1f3904"
          }
        },
        "03b7e2c08747493c9b5d204dda4c53c5": {
          "model_module": "@jupyter-widgets/controls",
          "model_name": "HTMLModel",
          "model_module_version": "1.5.0",
          "state": {
            "_dom_classes": [],
            "_model_module": "@jupyter-widgets/controls",
            "_model_module_version": "1.5.0",
            "_model_name": "HTMLModel",
            "_view_count": null,
            "_view_module": "@jupyter-widgets/controls",
            "_view_module_version": "1.5.0",
            "_view_name": "HTMLView",
            "description": "",
            "description_tooltip": null,
            "layout": "IPY_MODEL_6b76b6f4ebe74469bf2a8a7fa2c082d0",
            "placeholder": "​",
            "style": "IPY_MODEL_4be8641e1bbe411eb9d660c3efc09a38",
            "value": "Downloading (…)l-00001-of-00002.bin:  75%"
          }
        },
        "332728fe7f154ca78e8e462cf2e958a4": {
          "model_module": "@jupyter-widgets/controls",
          "model_name": "FloatProgressModel",
          "model_module_version": "1.5.0",
          "state": {
            "_dom_classes": [],
            "_model_module": "@jupyter-widgets/controls",
            "_model_module_version": "1.5.0",
            "_model_name": "FloatProgressModel",
            "_view_count": null,
            "_view_module": "@jupyter-widgets/controls",
            "_view_module_version": "1.5.0",
            "_view_name": "ProgressView",
            "bar_style": "",
            "description": "",
            "description_tooltip": null,
            "layout": "IPY_MODEL_2addc8b357c944edbe1088f3cbbb3079",
            "max": 10161140290,
            "min": 0,
            "orientation": "horizontal",
            "style": "IPY_MODEL_3c9c4a592cfe4fa6b72a846adbb2bf75",
            "value": 7612661760
          }
        },
        "56c5bce4376a4cfca0d8d47e631366f6": {
          "model_module": "@jupyter-widgets/controls",
          "model_name": "HTMLModel",
          "model_module_version": "1.5.0",
          "state": {
            "_dom_classes": [],
            "_model_module": "@jupyter-widgets/controls",
            "_model_module_version": "1.5.0",
            "_model_name": "HTMLModel",
            "_view_count": null,
            "_view_module": "@jupyter-widgets/controls",
            "_view_module_version": "1.5.0",
            "_view_name": "HTMLView",
            "description": "",
            "description_tooltip": null,
            "layout": "IPY_MODEL_f1c9585304934ccd840c8ae2138ca7e2",
            "placeholder": "​",
            "style": "IPY_MODEL_641252da6c1742c19543e0e5e9cb0e36",
            "value": " 7.61G/10.2G [03:38&lt;00:58, 43.9MB/s]"
          }
        },
        "6eba307da8634304905c62027d1f3904": {
          "model_module": "@jupyter-widgets/base",
          "model_name": "LayoutModel",
          "model_module_version": "1.2.0",
          "state": {
            "_model_module": "@jupyter-widgets/base",
            "_model_module_version": "1.2.0",
            "_model_name": "LayoutModel",
            "_view_count": null,
            "_view_module": "@jupyter-widgets/base",
            "_view_module_version": "1.2.0",
            "_view_name": "LayoutView",
            "align_content": null,
            "align_items": null,
            "align_self": null,
            "border": null,
            "bottom": null,
            "display": null,
            "flex": null,
            "flex_flow": null,
            "grid_area": null,
            "grid_auto_columns": null,
            "grid_auto_flow": null,
            "grid_auto_rows": null,
            "grid_column": null,
            "grid_gap": null,
            "grid_row": null,
            "grid_template_areas": null,
            "grid_template_columns": null,
            "grid_template_rows": null,
            "height": null,
            "justify_content": null,
            "justify_items": null,
            "left": null,
            "margin": null,
            "max_height": null,
            "max_width": null,
            "min_height": null,
            "min_width": null,
            "object_fit": null,
            "object_position": null,
            "order": null,
            "overflow": null,
            "overflow_x": null,
            "overflow_y": null,
            "padding": null,
            "right": null,
            "top": null,
            "visibility": null,
            "width": null
          }
        },
        "6b76b6f4ebe74469bf2a8a7fa2c082d0": {
          "model_module": "@jupyter-widgets/base",
          "model_name": "LayoutModel",
          "model_module_version": "1.2.0",
          "state": {
            "_model_module": "@jupyter-widgets/base",
            "_model_module_version": "1.2.0",
            "_model_name": "LayoutModel",
            "_view_count": null,
            "_view_module": "@jupyter-widgets/base",
            "_view_module_version": "1.2.0",
            "_view_name": "LayoutView",
            "align_content": null,
            "align_items": null,
            "align_self": null,
            "border": null,
            "bottom": null,
            "display": null,
            "flex": null,
            "flex_flow": null,
            "grid_area": null,
            "grid_auto_columns": null,
            "grid_auto_flow": null,
            "grid_auto_rows": null,
            "grid_column": null,
            "grid_gap": null,
            "grid_row": null,
            "grid_template_areas": null,
            "grid_template_columns": null,
            "grid_template_rows": null,
            "height": null,
            "justify_content": null,
            "justify_items": null,
            "left": null,
            "margin": null,
            "max_height": null,
            "max_width": null,
            "min_height": null,
            "min_width": null,
            "object_fit": null,
            "object_position": null,
            "order": null,
            "overflow": null,
            "overflow_x": null,
            "overflow_y": null,
            "padding": null,
            "right": null,
            "top": null,
            "visibility": null,
            "width": null
          }
        },
        "4be8641e1bbe411eb9d660c3efc09a38": {
          "model_module": "@jupyter-widgets/controls",
          "model_name": "DescriptionStyleModel",
          "model_module_version": "1.5.0",
          "state": {
            "_model_module": "@jupyter-widgets/controls",
            "_model_module_version": "1.5.0",
            "_model_name": "DescriptionStyleModel",
            "_view_count": null,
            "_view_module": "@jupyter-widgets/base",
            "_view_module_version": "1.2.0",
            "_view_name": "StyleView",
            "description_width": ""
          }
        },
        "2addc8b357c944edbe1088f3cbbb3079": {
          "model_module": "@jupyter-widgets/base",
          "model_name": "LayoutModel",
          "model_module_version": "1.2.0",
          "state": {
            "_model_module": "@jupyter-widgets/base",
            "_model_module_version": "1.2.0",
            "_model_name": "LayoutModel",
            "_view_count": null,
            "_view_module": "@jupyter-widgets/base",
            "_view_module_version": "1.2.0",
            "_view_name": "LayoutView",
            "align_content": null,
            "align_items": null,
            "align_self": null,
            "border": null,
            "bottom": null,
            "display": null,
            "flex": null,
            "flex_flow": null,
            "grid_area": null,
            "grid_auto_columns": null,
            "grid_auto_flow": null,
            "grid_auto_rows": null,
            "grid_column": null,
            "grid_gap": null,
            "grid_row": null,
            "grid_template_areas": null,
            "grid_template_columns": null,
            "grid_template_rows": null,
            "height": null,
            "justify_content": null,
            "justify_items": null,
            "left": null,
            "margin": null,
            "max_height": null,
            "max_width": null,
            "min_height": null,
            "min_width": null,
            "object_fit": null,
            "object_position": null,
            "order": null,
            "overflow": null,
            "overflow_x": null,
            "overflow_y": null,
            "padding": null,
            "right": null,
            "top": null,
            "visibility": null,
            "width": null
          }
        },
        "3c9c4a592cfe4fa6b72a846adbb2bf75": {
          "model_module": "@jupyter-widgets/controls",
          "model_name": "ProgressStyleModel",
          "model_module_version": "1.5.0",
          "state": {
            "_model_module": "@jupyter-widgets/controls",
            "_model_module_version": "1.5.0",
            "_model_name": "ProgressStyleModel",
            "_view_count": null,
            "_view_module": "@jupyter-widgets/base",
            "_view_module_version": "1.2.0",
            "_view_name": "StyleView",
            "bar_color": null,
            "description_width": ""
          }
        },
        "f1c9585304934ccd840c8ae2138ca7e2": {
          "model_module": "@jupyter-widgets/base",
          "model_name": "LayoutModel",
          "model_module_version": "1.2.0",
          "state": {
            "_model_module": "@jupyter-widgets/base",
            "_model_module_version": "1.2.0",
            "_model_name": "LayoutModel",
            "_view_count": null,
            "_view_module": "@jupyter-widgets/base",
            "_view_module_version": "1.2.0",
            "_view_name": "LayoutView",
            "align_content": null,
            "align_items": null,
            "align_self": null,
            "border": null,
            "bottom": null,
            "display": null,
            "flex": null,
            "flex_flow": null,
            "grid_area": null,
            "grid_auto_columns": null,
            "grid_auto_flow": null,
            "grid_auto_rows": null,
            "grid_column": null,
            "grid_gap": null,
            "grid_row": null,
            "grid_template_areas": null,
            "grid_template_columns": null,
            "grid_template_rows": null,
            "height": null,
            "justify_content": null,
            "justify_items": null,
            "left": null,
            "margin": null,
            "max_height": null,
            "max_width": null,
            "min_height": null,
            "min_width": null,
            "object_fit": null,
            "object_position": null,
            "order": null,
            "overflow": null,
            "overflow_x": null,
            "overflow_y": null,
            "padding": null,
            "right": null,
            "top": null,
            "visibility": null,
            "width": null
          }
        },
        "641252da6c1742c19543e0e5e9cb0e36": {
          "model_module": "@jupyter-widgets/controls",
          "model_name": "DescriptionStyleModel",
          "model_module_version": "1.5.0",
          "state": {
            "_model_module": "@jupyter-widgets/controls",
            "_model_module_version": "1.5.0",
            "_model_name": "DescriptionStyleModel",
            "_view_count": null,
            "_view_module": "@jupyter-widgets/base",
            "_view_module_version": "1.2.0",
            "_view_name": "StyleView",
            "description_width": ""
          }
        }
      }
    }
  },
  "cells": [
    {
      "cell_type": "markdown",
      "metadata": {
        "id": "view-in-github",
        "colab_type": "text"
      },
      "source": [
        "<a href=\"https://colab.research.google.com/github/sudarshan-koirala/youtube-stuffs/blob/main/llamaindex/LlamaIndex_intro.ipynb\" target=\"_parent\"><img src=\"https://colab.research.google.com/assets/colab-badge.svg\" alt=\"Open In Colab\"/></a>"
      ]
    },
    {
      "cell_type": "markdown",
      "source": [
        "# LlamaIndex\n",
        "## [Youtube Video covering this notebook](https://youtu.be/QNKeNiRjtGQ?si=UFH9WL5nXvmj2EM1)\n",
        "- [LlamaIndex Website](https://www.llamaindex.ai/)\n",
        "- [LangChain Website](https://python.langchain.com/docs/get_started/introduction)\n",
        "-[Retrieval-Augmented Generation (RAG)](https://research.ibm.com/blog/retrieval-augmented-generation-RAG)\n"
      ],
      "metadata": {
        "id": "mlVz3NHxgk0h"
      }
    },
    {
      "cell_type": "markdown",
      "source": [
        "## Install libraries and Env Setup"
      ],
      "metadata": {
        "id": "HoDC_DKkj6Ga"
      }
    },
    {
      "cell_type": "code",
      "execution_count": null,
      "metadata": {
        "id": "nW_0yKusLRWK"
      },
      "outputs": [],
      "source": [
        "%%capture\n",
        "!pip install llama-index openai"
      ]
    },
    {
      "cell_type": "code",
      "source": [
        "import os\n",
        "# https://platform.openai.com/account/api-keys\n",
        "os.environ[\"OPENAI_API_KEY\"] = \"YOUR_OPENAI_API_KEY\""
      ],
      "metadata": {
        "id": "wwiMDG-2Z3je"
      },
      "execution_count": null,
      "outputs": []
    },
    {
      "cell_type": "markdown",
      "source": [
        "## Implementation"
      ],
      "metadata": {
        "id": "I2UAfS56lZh-"
      }
    },
    {
      "cell_type": "code",
      "source": [
        "# Import necessary packages\n",
        "from llama_index.llms import OpenAI\n",
        "from llama_index import VectorStoreIndex, SimpleDirectoryReader\n",
        "from IPython.display import Markdown, display"
      ],
      "metadata": {
        "id": "bwdh1lj6g_pz"
      },
      "execution_count": null,
      "outputs": []
    },
    {
      "cell_type": "code",
      "source": [
        "#VectorStoreIndex??\n",
        "#SimpleDirectoryReader??"
      ],
      "metadata": {
        "id": "l2api1uzlIEj"
      },
      "execution_count": null,
      "outputs": []
    },
    {
      "cell_type": "code",
      "source": [
        "import os\n",
        "import subprocess\n",
        "\n",
        "# Specify the URL of the PDF file you want to download\n",
        "pdf_url = \"https://browse.arxiv.org/pdf/1706.03762.pdf\"\n",
        "\n",
        "# Specify the directory where you want to save the PDF file\n",
        "download_dir = \"data\"\n",
        "\n",
        "# Specify the desired new name for the downloaded PDF file\n",
        "new_filename = \"attention-is-all-you-need.pdf\"\n",
        "\n",
        "# Create the directory if it doesn't exist\n",
        "if not os.path.exists(download_dir):\n",
        "    os.makedirs(download_dir)\n",
        "\n",
        "# Use wget to download the PDF file into the directory\n",
        "command = f\"wget -P {download_dir} {pdf_url}\"\n",
        "\n",
        "# Execute the wget command using subprocess\n",
        "try:\n",
        "    subprocess.run(command, shell=True, check=True)\n",
        "    print(f\"PDF downloaded successfully to {download_dir}\")\n",
        "\n",
        "    # Rename the downloaded file to the desired name\n",
        "    old_filepath = os.path.join(download_dir, os.path.basename(pdf_url))\n",
        "    new_filepath = os.path.join(download_dir, new_filename)\n",
        "    os.rename(old_filepath, new_filepath)\n",
        "    print(f\"PDF renamed to {new_filename}\")\n",
        "except subprocess.CalledProcessError as e:\n",
        "    print(f\"Error: {e}\")"
      ],
      "metadata": {
        "colab": {
          "base_uri": "https://localhost:8080/"
        },
        "id": "1gS480x_lwSx",
        "outputId": "445a5a43-32f6-43b6-ecb5-c8dee33ba1d4"
      },
      "execution_count": null,
      "outputs": [
        {
          "output_type": "stream",
          "name": "stdout",
          "text": [
            "PDF downloaded successfully to data\n",
            "PDF renamed to attention-is-all-you-need.pdf\n"
          ]
        }
      ]
    },
    {
      "cell_type": "code",
      "source": [
        "%%capture\n",
        "!pip install pypdf"
      ],
      "metadata": {
        "id": "QIbKYlKhnMLy"
      },
      "execution_count": null,
      "outputs": []
    },
    {
      "cell_type": "markdown",
      "source": [
        "## Load documents and build index"
      ],
      "metadata": {
        "id": "3GGPMIiOpF4b"
      }
    },
    {
      "cell_type": "code",
      "source": [
        "#document loader\n",
        "documents = SimpleDirectoryReader(\"data\").load_data()"
      ],
      "metadata": {
        "id": "y0hb-49phJj0"
      },
      "execution_count": null,
      "outputs": []
    },
    {
      "cell_type": "code",
      "source": [
        "len(documents)"
      ],
      "metadata": {
        "colab": {
          "base_uri": "https://localhost:8080/"
        },
        "id": "2AVyRO7bnSw7",
        "outputId": "9383f5c7-a6a4-4206-d285-8c70f22988d6"
      },
      "execution_count": null,
      "outputs": [
        {
          "output_type": "execute_result",
          "data": {
            "text/plain": [
              "15"
            ]
          },
          "metadata": {},
          "execution_count": 11
        }
      ]
    },
    {
      "cell_type": "code",
      "source": [
        "documents[0]"
      ],
      "metadata": {
        "colab": {
          "base_uri": "https://localhost:8080/"
        },
        "id": "c5czlXaU6gPq",
        "outputId": "eb67ab60-30bf-452c-a154-dd08b849bae5"
      },
      "execution_count": null,
      "outputs": [
        {
          "output_type": "execute_result",
          "data": {
            "text/plain": [
              "Document(id_='b4af931a-4c5e-4b2f-83ea-22c0b604e219', embedding=None, metadata={'page_label': '1', 'file_name': 'attention-is-all-you-need.pdf'}, excluded_embed_metadata_keys=[], excluded_llm_metadata_keys=[], relationships={}, hash='097b058bac59d3db9e75f68f815021f9770ec4974c10dd03ced0a86cbb64e7c6', text='Provided proper attribution is provided, Google hereby grants permission to\\nreproduce the tables and figures in this paper solely for use in journalistic or\\nscholarly works.\\nAttention Is All You Need\\nAshish Vaswani∗\\nGoogle Brain\\navaswani@google.comNoam Shazeer∗\\nGoogle Brain\\nnoam@google.comNiki Parmar∗\\nGoogle Research\\nnikip@google.comJakob Uszkoreit∗\\nGoogle Research\\nusz@google.com\\nLlion Jones∗\\nGoogle Research\\nllion@google.comAidan N. Gomez∗ †\\nUniversity of Toronto\\naidan@cs.toronto.eduŁukasz Kaiser∗\\nGoogle Brain\\nlukaszkaiser@google.com\\nIllia Polosukhin∗ ‡\\nillia.polosukhin@gmail.com\\nAbstract\\nThe dominant sequence transduction models are based on complex recurrent or\\nconvolutional neural networks that include an encoder and a decoder. The best\\nperforming models also connect the encoder and decoder through an attention\\nmechanism. We propose a new simple network architecture, the Transformer,\\nbased solely on attention mechanisms, dispensing with recurrence and convolutions\\nentirely. Experiments on two machine translation tasks show these models to\\nbe superior in quality while being more parallelizable and requiring significantly\\nless time to train. Our model achieves 28.4 BLEU on the WMT 2014 English-\\nto-German translation task, improving over the existing best results, including\\nensembles, by over 2 BLEU. On the WMT 2014 English-to-French translation task,\\nour model establishes a new single-model state-of-the-art BLEU score of 41.8 after\\ntraining for 3.5 days on eight GPUs, a small fraction of the training costs of the\\nbest models from the literature. We show that the Transformer generalizes well to\\nother tasks by applying it successfully to English constituency parsing both with\\nlarge and limited training data.\\n∗Equal contribution. Listing order is random. Jakob proposed replacing RNNs with self-attention and started\\nthe effort to evaluate this idea. Ashish, with Illia, designed and implemented the first Transformer models and\\nhas been crucially involved in every aspect of this work. Noam proposed scaled dot-product attention, multi-head\\nattention and the parameter-free position representation and became the other person involved in nearly every\\ndetail. Niki designed, implemented, tuned and evaluated countless model variants in our original codebase and\\ntensor2tensor. Llion also experimented with novel model variants, was responsible for our initial codebase, and\\nefficient inference and visualizations. Lukasz and Aidan spent countless long days designing various parts of and\\nimplementing tensor2tensor, replacing our earlier codebase, greatly improving results and massively accelerating\\nour research.\\n†Work performed while at Google Brain.\\n‡Work performed while at Google Research.\\n31st Conference on Neural Information Processing Systems (NIPS 2017), Long Beach, CA, USA.arXiv:1706.03762v7  [cs.CL]  2 Aug 2023', start_char_idx=None, end_char_idx=None, text_template='{metadata_str}\\n\\n{content}', metadata_template='{key}: {value}', metadata_seperator='\\n')"
            ]
          },
          "metadata": {},
          "execution_count": 12
        }
      ]
    },
    {
      "cell_type": "markdown",
      "source": [
        "[LlamaIndex Vector Store Index](https://gpt-index.readthedocs.io/en/latest/core_modules/data_modules/index/vector_store_guide.html)"
      ],
      "metadata": {
        "id": "i6-wUOvqocPC"
      }
    },
    {
      "cell_type": "code",
      "source": [
        "# build index/vectorstore (document splitting, embedding, storing embeddings + chunks)\n",
        "index = VectorStoreIndex.from_documents(documents)"
      ],
      "metadata": {
        "colab": {
          "base_uri": "https://localhost:8080/"
        },
        "id": "r7oTIw4YhJqD",
        "outputId": "daccea6b-f31d-415b-83d3-40c2a36b082d"
      },
      "execution_count": null,
      "outputs": [
        {
          "output_type": "stream",
          "name": "stderr",
          "text": [
            "[nltk_data] Downloading package punkt to /tmp/llama_index...\n",
            "[nltk_data]   Unzipping tokenizers/punkt.zip.\n"
          ]
        }
      ]
    },
    {
      "cell_type": "markdown",
      "source": [
        "### Query\n",
        "Start querying by getting the default query engine"
      ],
      "metadata": {
        "id": "ywx4UsvIo1SL"
      }
    },
    {
      "cell_type": "code",
      "source": [
        "query_engine = index.as_query_engine() #no history preserved"
      ],
      "metadata": {
        "id": "PjC2iTmhhJzU"
      },
      "execution_count": null,
      "outputs": []
    },
    {
      "cell_type": "code",
      "source": [
        "response = query_engine.query(\"What is the paper about ?\")"
      ],
      "metadata": {
        "id": "UGCwgL2Ng_s1"
      },
      "execution_count": null,
      "outputs": []
    },
    {
      "cell_type": "code",
      "source": [
        "response"
      ],
      "metadata": {
        "colab": {
          "base_uri": "https://localhost:8080/"
        },
        "id": "ofOJIorbp_aT",
        "outputId": "23741cf8-902a-4521-9aed-8e1bc09a92f6"
      },
      "execution_count": null,
      "outputs": [
        {
          "output_type": "execute_result",
          "data": {
            "text/plain": [
              "Response(response='The paper is about attention in neural networks, specifically in the context of natural language processing.', source_nodes=[NodeWithScore(node=TextNode(id_='7bd819e8-0ac5-43eb-9e85-f55beb3763cf', embedding=None, metadata={'page_label': '15', 'file_name': 'attention-is-all-you-need.pdf'}, excluded_embed_metadata_keys=[], excluded_llm_metadata_keys=[], relationships={<NodeRelationship.SOURCE: '1'>: RelatedNodeInfo(node_id='89bddfef-1c56-4fdc-a6c2-e00690dd244e', node_type=None, metadata={'page_label': '15', 'file_name': 'attention-is-all-you-need.pdf'}, hash='75127f36ad5f92a4af2616c04854ecd1216826b1942f707750fe4f06d8c3e7a1')}, hash='75127f36ad5f92a4af2616c04854ecd1216826b1942f707750fe4f06d8c3e7a1', text='Input-Input Layer5\\nThe\\nLaw\\nwill\\nnever\\nbe\\nperfect\\n,\\nbut\\nits\\napplication\\nshould\\nbe\\njust\\n-\\nthis\\nis\\nwhat\\nwe\\nare\\nmissing\\n,\\nin\\nmy\\nopinion\\n.\\n<EOS>\\n<pad>\\nThe\\nLaw\\nwill\\nnever\\nbe\\nperfect\\n,\\nbut\\nits\\napplication\\nshould\\nbe\\njust\\n-\\nthis\\nis\\nwhat\\nwe\\nare\\nmissing\\n,\\nin\\nmy\\nopinion\\n.\\n<EOS>\\n<pad>\\nInput-Input Layer5\\nThe\\nLaw\\nwill\\nnever\\nbe\\nperfect\\n,\\nbut\\nits\\napplication\\nshould\\nbe\\njust\\n-\\nthis\\nis\\nwhat\\nwe\\nare\\nmissing\\n,\\nin\\nmy\\nopinion\\n.\\n<EOS>\\n<pad>\\nThe\\nLaw\\nwill\\nnever\\nbe\\nperfect\\n,\\nbut\\nits\\napplication\\nshould\\nbe\\njust\\n-\\nthis\\nis\\nwhat\\nwe\\nare\\nmissing\\n,\\nin\\nmy\\nopinion\\n.\\n<EOS>\\n<pad>Figure 5: Many of the attention heads exhibit behaviour that seems related to the structure of the\\nsentence. We give two such examples above, from two different heads from the encoder self-attention\\nat layer 5 of 6. The heads clearly learned to perform different tasks.\\n15', start_char_idx=None, end_char_idx=None, text_template='{metadata_str}\\n\\n{content}', metadata_template='{key}: {value}', metadata_seperator='\\n'), score=0.7639631421496766), NodeWithScore(node=TextNode(id_='3371e405-63b2-43fc-86ad-e81a774bed08', embedding=None, metadata={'page_label': '14', 'file_name': 'attention-is-all-you-need.pdf'}, excluded_embed_metadata_keys=[], excluded_llm_metadata_keys=[], relationships={<NodeRelationship.SOURCE: '1'>: RelatedNodeInfo(node_id='905c6dc5-a1c0-4ace-82bf-10dde87fb6fd', node_type=None, metadata={'page_label': '14', 'file_name': 'attention-is-all-you-need.pdf'}, hash='8e5bffbcd9fcf3cefe91c6beee71fa524d33309d0b51fd0b2591408628648f90')}, hash='8e5bffbcd9fcf3cefe91c6beee71fa524d33309d0b51fd0b2591408628648f90', text='Input-Input Layer5\\nThe\\nLaw\\nwill\\nnever\\nbe\\nperfect\\n,\\nbut\\nits\\napplication\\nshould\\nbe\\njust\\n-\\nthis\\nis\\nwhat\\nwe\\nare\\nmissing\\n,\\nin\\nmy\\nopinion\\n.\\n<EOS>\\n<pad>\\nThe\\nLaw\\nwill\\nnever\\nbe\\nperfect\\n,\\nbut\\nits\\napplication\\nshould\\nbe\\njust\\n-\\nthis\\nis\\nwhat\\nwe\\nare\\nmissing\\n,\\nin\\nmy\\nopinion\\n.\\n<EOS>\\n<pad>\\nInput-Input Layer5\\nThe\\nLaw\\nwill\\nnever\\nbe\\nperfect\\n,\\nbut\\nits\\napplication\\nshould\\nbe\\njust\\n-\\nthis\\nis\\nwhat\\nwe\\nare\\nmissing\\n,\\nin\\nmy\\nopinion\\n.\\n<EOS>\\n<pad>\\nThe\\nLaw\\nwill\\nnever\\nbe\\nperfect\\n,\\nbut\\nits\\napplication\\nshould\\nbe\\njust\\n-\\nthis\\nis\\nwhat\\nwe\\nare\\nmissing\\n,\\nin\\nmy\\nopinion\\n.\\n<EOS>\\n<pad>Figure 4: Two attention heads, also in layer 5 of 6, apparently involved in anaphora resolution. Top:\\nFull attentions for head 5. Bottom: Isolated attentions from just the word ‘its’ for attention heads 5\\nand 6. Note that the attentions are very sharp for this word.\\n14', start_char_idx=None, end_char_idx=None, text_template='{metadata_str}\\n\\n{content}', metadata_template='{key}: {value}', metadata_seperator='\\n'), score=0.7637439798052357)], metadata={'7bd819e8-0ac5-43eb-9e85-f55beb3763cf': {'page_label': '15', 'file_name': 'attention-is-all-you-need.pdf'}, '3371e405-63b2-43fc-86ad-e81a774bed08': {'page_label': '14', 'file_name': 'attention-is-all-you-need.pdf'}})"
            ]
          },
          "metadata": {},
          "execution_count": 16
        }
      ]
    },
    {
      "cell_type": "code",
      "source": [
        "display(Markdown(f\"<b>{response}</b>\"))"
      ],
      "metadata": {
        "colab": {
          "base_uri": "https://localhost:8080/",
          "height": 46
        },
        "id": "xF8Yk2-rg_wQ",
        "outputId": "4b938b58-fb83-493f-e78b-a4535dda9e70"
      },
      "execution_count": null,
      "outputs": [
        {
          "output_type": "display_data",
          "data": {
            "text/plain": [
              "<IPython.core.display.Markdown object>"
            ],
            "text/markdown": "<b>The paper is about attention in neural networks, specifically in the context of natural language processing.</b>"
          },
          "metadata": {}
        }
      ]
    },
    {
      "cell_type": "code",
      "source": [],
      "metadata": {
        "id": "F8_RBy1GqMm5"
      },
      "execution_count": null,
      "outputs": []
    },
    {
      "cell_type": "markdown",
      "source": [
        "### Storing and Loading the Index"
      ],
      "metadata": {
        "id": "JNVgRgycmlYv"
      }
    },
    {
      "cell_type": "code",
      "source": [
        "index.storage_context.persist()"
      ],
      "metadata": {
        "id": "3bjDrdRag_3Q"
      },
      "execution_count": null,
      "outputs": []
    },
    {
      "cell_type": "code",
      "source": [
        "from llama_index import StorageContext, load_index_from_storage\n",
        "\n",
        "storage_context = StorageContext.from_defaults(persist_dir=\"./storage\")\n",
        "index = load_index_from_storage(storage_context=storage_context)"
      ],
      "metadata": {
        "id": "YjcYRoSlhAAS"
      },
      "execution_count": null,
      "outputs": []
    },
    {
      "cell_type": "code",
      "source": [],
      "metadata": {
        "id": "nTn8d9UGhALZ"
      },
      "execution_count": null,
      "outputs": []
    },
    {
      "cell_type": "markdown",
      "source": [
        "## We used the default one,  How to Customize It ??\n",
        "[Customizing LLms within LlamaIndex](https://gpt-index.readthedocs.io/en/latest/core_modules/model_modules/llms/usage_custom.html)"
      ],
      "metadata": {
        "id": "jLO4x48IoHTL"
      }
    },
    {
      "cell_type": "code",
      "source": [
        "from llama_index import ServiceContext, set_global_service_context\n",
        "from llama_index.llms import OpenAI\n",
        "# alternatively\n",
        "# from langchain.llms import ..."
      ],
      "metadata": {
        "id": "nfDyiWy1Z3m1"
      },
      "execution_count": null,
      "outputs": []
    },
    {
      "cell_type": "code",
      "source": [
        "#define LLM\n",
        "llm = OpenAI(temperature=0.1, model=\"gpt-3.5-turbo\", max_tokens=512)\n",
        "\n",
        "# configure service context\n",
        "service_context = ServiceContext.from_defaults(llm=llm, chunk_size=500, chunk_overlap=50)\n",
        "\n",
        "# set_global_service_context(service_context)\n",
        "index = VectorStoreIndex.from_documents(documents, service_context=service_context)"
      ],
      "metadata": {
        "id": "q4t_HpOAZ3qL"
      },
      "execution_count": null,
      "outputs": []
    },
    {
      "cell_type": "code",
      "source": [
        "query_engine = index.as_query_engine(streaming=True)\n",
        "response = query_engine.query(\"What is the paper about ?\")\n",
        "response.print_response_stream()"
      ],
      "metadata": {
        "colab": {
          "base_uri": "https://localhost:8080/"
        },
        "id": "xTVyuuZcl7E3",
        "outputId": "25c8677a-4c8b-42c0-ec09-ee05dba53247"
      },
      "execution_count": null,
      "outputs": [
        {
          "output_type": "stream",
          "name": "stdout",
          "text": [
            "The paper is about attention in neural networks, specifically in the context of natural language processing."
          ]
        }
      ]
    },
    {
      "cell_type": "code",
      "source": [],
      "metadata": {
        "id": "RdrxRhhPl7IB"
      },
      "execution_count": null,
      "outputs": []
    },
    {
      "cell_type": "markdown",
      "source": [
        "## Using LLM From HuggingFace [LINK](https://gpt-index.readthedocs.io/en/latest/core_modules/model_modules/llms/usage_custom.html#example-using-a-huggingface-llm)"
      ],
      "metadata": {
        "id": "7KLRgszMrAT5"
      }
    },
    {
      "cell_type": "code",
      "source": [
        "from llama_index.llms import HuggingFaceLLM\n",
        "from llama_index.prompts import PromptTemplate\n",
        "\n",
        "system_prompt = \"\"\"<|SYSTEM|># StableLM Tuned (Alpha version)\n",
        "- StableLM is a helpful and harmless open-source AI language model developed by StabilityAI.\n",
        "- StableLM is excited to be able to help the user, but will refuse to do anything that could be considered harmful to the user.\n",
        "- StableLM is more than just an information source, StableLM is also able to write poetry, short stories, and make jokes.\n",
        "- StableLM will refuse to participate in anything that could harm a human.\n",
        "\"\"\"\n",
        "\n",
        "# This will wrap the default prompts that are internal to llama-index\n",
        "query_wrapper_prompt = PromptTemplate(\"<|USER|>{query_str}<|ASSISTANT|>\")\n",
        "\n",
        "import torch\n",
        "from llama_index.llms import HuggingFaceLLM\n",
        "llm = HuggingFaceLLM(\n",
        "    context_window=4096,\n",
        "    max_new_tokens=256,\n",
        "    generate_kwargs={\"temperature\": 0.7, \"do_sample\": False},\n",
        "    system_prompt=system_prompt,\n",
        "    query_wrapper_prompt=query_wrapper_prompt,\n",
        "    tokenizer_name=\"StabilityAI/stablelm-tuned-alpha-3b\",\n",
        "    model_name=\"StabilityAI/stablelm-tuned-alpha-3b\",\n",
        "    device_map=\"auto\",\n",
        "    stopping_ids=[50278, 50279, 50277, 1, 0],\n",
        "    tokenizer_kwargs={\"max_length\": 4096},\n",
        "    # uncomment this if using CUDA to reduce memory usage\n",
        "    # model_kwargs={\"torch_dtype\": torch.float16}\n",
        ")"
      ],
      "metadata": {
        "colab": {
          "base_uri": "https://localhost:8080/",
          "height": 669
        },
        "id": "opZozOkhgWkA",
        "outputId": "646ae702-673b-490a-dbe6-0d4374f1e2cd"
      },
      "execution_count": null,
      "outputs": [
        {
          "output_type": "error",
          "ename": "ImportError",
          "evalue": "ignored",
          "traceback": [
            "\u001b[0;31m---------------------------------------------------------------------------\u001b[0m",
            "\u001b[0;31mModuleNotFoundError\u001b[0m                       Traceback (most recent call last)",
            "\u001b[0;32m/usr/local/lib/python3.10/dist-packages/llama_index/llms/huggingface.py\u001b[0m in \u001b[0;36m__init__\u001b[0;34m(self, context_window, max_new_tokens, system_prompt, query_wrapper_prompt, tokenizer_name, model_name, model, tokenizer, device_map, stopping_ids, tokenizer_kwargs, tokenizer_outputs_to_remove, model_kwargs, generate_kwargs, callback_manager)\u001b[0m\n\u001b[1;32m    104\u001b[0m             \u001b[0;32mimport\u001b[0m \u001b[0mtorch\u001b[0m\u001b[0;34m\u001b[0m\u001b[0;34m\u001b[0m\u001b[0m\n\u001b[0;32m--> 105\u001b[0;31m             from transformers import (\n\u001b[0m\u001b[1;32m    106\u001b[0m                 \u001b[0mAutoModelForCausalLM\u001b[0m\u001b[0;34m,\u001b[0m\u001b[0;34m\u001b[0m\u001b[0;34m\u001b[0m\u001b[0m\n",
            "\u001b[0;31mModuleNotFoundError\u001b[0m: No module named 'transformers'",
            "\nThe above exception was the direct cause of the following exception:\n",
            "\u001b[0;31mImportError\u001b[0m                               Traceback (most recent call last)",
            "\u001b[0;32m<ipython-input-25-b9230f02deb1>\u001b[0m in \u001b[0;36m<cell line: 16>\u001b[0;34m()\u001b[0m\n\u001b[1;32m     14\u001b[0m \u001b[0;32mimport\u001b[0m \u001b[0mtorch\u001b[0m\u001b[0;34m\u001b[0m\u001b[0;34m\u001b[0m\u001b[0m\n\u001b[1;32m     15\u001b[0m \u001b[0;32mfrom\u001b[0m \u001b[0mllama_index\u001b[0m\u001b[0;34m.\u001b[0m\u001b[0mllms\u001b[0m \u001b[0;32mimport\u001b[0m \u001b[0mHuggingFaceLLM\u001b[0m\u001b[0;34m\u001b[0m\u001b[0;34m\u001b[0m\u001b[0m\n\u001b[0;32m---> 16\u001b[0;31m llm = HuggingFaceLLM(\n\u001b[0m\u001b[1;32m     17\u001b[0m     \u001b[0mcontext_window\u001b[0m\u001b[0;34m=\u001b[0m\u001b[0;36m4096\u001b[0m\u001b[0;34m,\u001b[0m\u001b[0;34m\u001b[0m\u001b[0;34m\u001b[0m\u001b[0m\n\u001b[1;32m     18\u001b[0m     \u001b[0mmax_new_tokens\u001b[0m\u001b[0;34m=\u001b[0m\u001b[0;36m256\u001b[0m\u001b[0;34m,\u001b[0m\u001b[0;34m\u001b[0m\u001b[0;34m\u001b[0m\u001b[0m\n",
            "\u001b[0;32m/usr/local/lib/python3.10/dist-packages/llama_index/llms/huggingface.py\u001b[0m in \u001b[0;36m__init__\u001b[0;34m(self, context_window, max_new_tokens, system_prompt, query_wrapper_prompt, tokenizer_name, model_name, model, tokenizer, device_map, stopping_ids, tokenizer_kwargs, tokenizer_outputs_to_remove, model_kwargs, generate_kwargs, callback_manager)\u001b[0m\n\u001b[1;32m    110\u001b[0m             )\n\u001b[1;32m    111\u001b[0m         \u001b[0;32mexcept\u001b[0m \u001b[0mImportError\u001b[0m \u001b[0;32mas\u001b[0m \u001b[0mexc\u001b[0m\u001b[0;34m:\u001b[0m\u001b[0;34m\u001b[0m\u001b[0;34m\u001b[0m\u001b[0m\n\u001b[0;32m--> 112\u001b[0;31m             raise ImportError(\n\u001b[0m\u001b[1;32m    113\u001b[0m                 \u001b[0;34mf\"{type(self).__name__} requires torch and transformers packages.\\n\"\u001b[0m\u001b[0;34m\u001b[0m\u001b[0;34m\u001b[0m\u001b[0m\n\u001b[1;32m    114\u001b[0m                 \u001b[0;34mf\"Please install both with `pip install transformers[torch]`.\"\u001b[0m\u001b[0;34m\u001b[0m\u001b[0;34m\u001b[0m\u001b[0m\n",
            "\u001b[0;31mImportError\u001b[0m: HuggingFaceLLM requires torch and transformers packages.\nPlease install both with `pip install transformers[torch]`.",
            "",
            "\u001b[0;31m---------------------------------------------------------------------------\u001b[0;32m\nNOTE: If your import is failing due to a missing package, you can\nmanually install dependencies using either !pip or !apt.\n\nTo view examples of installing some common dependencies, click the\n\"Open Examples\" button below.\n\u001b[0;31m---------------------------------------------------------------------------\u001b[0m\n"
          ],
          "errorDetails": {
            "actions": [
              {
                "action": "open_url",
                "actionText": "Open Examples",
                "url": "/notebooks/snippets/importing_libraries.ipynb"
              }
            ]
          }
        }
      ]
    },
    {
      "cell_type": "code",
      "source": [
        "%%capture\n",
        "!pip install transformers[torch]"
      ],
      "metadata": {
        "id": "h4L9Ejcvv2GJ"
      },
      "execution_count": null,
      "outputs": []
    },
    {
      "cell_type": "code",
      "source": [
        "import torch\n",
        "from llama_index.llms import HuggingFaceLLM\n",
        "from llama_index.prompts import PromptTemplate\n",
        "\n",
        "system_prompt = \"\"\"<|SYSTEM|># StableLM Tuned (Alpha version)\n",
        "- StableLM is a helpful and harmless open-source AI language model developed by StabilityAI.\n",
        "- StableLM is excited to be able to help the user, but will refuse to do anything that could be considered harmful to the user.\n",
        "- StableLM is more than just an information source, StableLM is also able to write poetry, short stories, and make jokes.\n",
        "- StableLM will refuse to participate in anything that could harm a human.\n",
        "\"\"\"\n",
        "\n",
        "# This will wrap the default prompts that are internal to llama-index\n",
        "query_wrapper_prompt = PromptTemplate(\"<|USER|>{query_str}<|ASSISTANT|>\")\n",
        "\n",
        "llm = HuggingFaceLLM(\n",
        "    context_window=4096,\n",
        "    max_new_tokens=256,\n",
        "    generate_kwargs={\"temperature\": 0.7, \"do_sample\": False},\n",
        "    system_prompt=system_prompt,\n",
        "    query_wrapper_prompt=query_wrapper_prompt,\n",
        "    tokenizer_name=\"StabilityAI/stablelm-tuned-alpha-3b\",\n",
        "    model_name=\"StabilityAI/stablelm-tuned-alpha-3b\",\n",
        "    device_map=\"auto\",\n",
        "    stopping_ids=[50278, 50279, 50277, 1, 0],\n",
        "    tokenizer_kwargs={\"max_length\": 4096},\n",
        "    # uncomment this if using CUDA to reduce memory usage\n",
        "    # model_kwargs={\"torch_dtype\": torch.float16}\n",
        ")"
      ],
      "metadata": {
        "colab": {
          "base_uri": "https://localhost:8080/",
          "height": 519,
          "referenced_widgets": [
            "3e8d04df26c146efa10acde157f2bc58",
            "df61ea4bf4ad4334af0c0d3330b32289",
            "eedb2ddaaf6944a696a45de8bb144efd",
            "20d8969f10af41c6b91d4a81bd9518ab",
            "019bab4c5e18445095dc0a514f87fc53",
            "5ee737cdf9c64cbc90f686194c766d37",
            "803861f792d743c38c5ceca6cb9878b8",
            "7ba242140e844d08bdbe66b363a5020f",
            "999c3d66df55442c87f4815e5811949f",
            "b8c86d0fd26b457d9978fe38331040c0",
            "bfa3ed1ab0bb42e9a70666093826ed71",
            "91367a64e1454523a224cd219fcadd99",
            "bd6c5eff40e04ecaac85b1b49cbcbc21",
            "0c9c2c080dfc426d923dea88fc6404a4",
            "89f53242637b4af3b23e58791de152fd",
            "9308158b4ab84bc88be727667472cfd6",
            "0356baf74bcd442eb7f16b4e5aa585be",
            "402644052a73436da4c7a0772e9fa43e",
            "002b777729a94bbd98a385895084a21c",
            "71bcd0115646455e97831276bc929a2b",
            "dba8b3b0d51641a2853ef70b01bcfcda",
            "a4fce4a28bf54e0f92215c10d5bdfadb",
            "491bc2364a8f45bc849f8615a273d6f3",
            "b88ff50e1a6b4af09e50130ea43579cf",
            "77a82f28cbd045b2a2f24acc296e996a",
            "765a44caceac4d94a81f2a5120210f18",
            "d0b9b7c82b36448d82d8e1710704601f",
            "8b95ebed7f414b239eef49ff08712322",
            "efe7d276fdd64a938f95ffd08c4c45d0",
            "31a078f77b904c269d954846ee2c3999",
            "01b0fee9151b48acb8604dd142329131",
            "1df9f7f5e02c48d696e1ed656c1ad978",
            "531cb43ef87b4b448a14b5b518c86fa0",
            "c860903b36914a0db6f91a97c9989d89",
            "03b7e2c08747493c9b5d204dda4c53c5",
            "332728fe7f154ca78e8e462cf2e958a4",
            "56c5bce4376a4cfca0d8d47e631366f6",
            "6eba307da8634304905c62027d1f3904",
            "6b76b6f4ebe74469bf2a8a7fa2c082d0",
            "4be8641e1bbe411eb9d660c3efc09a38",
            "2addc8b357c944edbe1088f3cbbb3079",
            "3c9c4a592cfe4fa6b72a846adbb2bf75",
            "f1c9585304934ccd840c8ae2138ca7e2",
            "641252da6c1742c19543e0e5e9cb0e36"
          ]
        },
        "id": "TL5-5OanwDuy",
        "outputId": "f3dc50ca-c140-4946-f071-832100bc8aee"
      },
      "execution_count": null,
      "outputs": [
        {
          "output_type": "display_data",
          "data": {
            "text/plain": [
              "Downloading (…)lve/main/config.json:   0%|          | 0.00/606 [00:00<?, ?B/s]"
            ],
            "application/vnd.jupyter.widget-view+json": {
              "version_major": 2,
              "version_minor": 0,
              "model_id": "3e8d04df26c146efa10acde157f2bc58"
            }
          },
          "metadata": {}
        },
        {
          "output_type": "display_data",
          "data": {
            "text/plain": [
              "Downloading (…)model.bin.index.json:   0%|          | 0.00/21.1k [00:00<?, ?B/s]"
            ],
            "application/vnd.jupyter.widget-view+json": {
              "version_major": 2,
              "version_minor": 0,
              "model_id": "91367a64e1454523a224cd219fcadd99"
            }
          },
          "metadata": {}
        },
        {
          "output_type": "display_data",
          "data": {
            "text/plain": [
              "Downloading shards:   0%|          | 0/2 [00:00<?, ?it/s]"
            ],
            "application/vnd.jupyter.widget-view+json": {
              "version_major": 2,
              "version_minor": 0,
              "model_id": "491bc2364a8f45bc849f8615a273d6f3"
            }
          },
          "metadata": {}
        },
        {
          "output_type": "display_data",
          "data": {
            "text/plain": [
              "Downloading (…)l-00001-of-00002.bin:   0%|          | 0.00/10.2G [00:00<?, ?B/s]"
            ],
            "application/vnd.jupyter.widget-view+json": {
              "version_major": 2,
              "version_minor": 0,
              "model_id": "c860903b36914a0db6f91a97c9989d89"
            }
          },
          "metadata": {}
        },
        {
          "output_type": "error",
          "ename": "KeyboardInterrupt",
          "evalue": "ignored",
          "traceback": [
            "\u001b[0;31m---------------------------------------------------------------------------\u001b[0m",
            "\u001b[0;31mKeyboardInterrupt\u001b[0m                         Traceback (most recent call last)",
            "\u001b[0;32m<ipython-input-27-74d23475d3db>\u001b[0m in \u001b[0;36m<cell line: 15>\u001b[0;34m()\u001b[0m\n\u001b[1;32m     13\u001b[0m \u001b[0mquery_wrapper_prompt\u001b[0m \u001b[0;34m=\u001b[0m \u001b[0mPromptTemplate\u001b[0m\u001b[0;34m(\u001b[0m\u001b[0;34m\"<|USER|>{query_str}<|ASSISTANT|>\"\u001b[0m\u001b[0;34m)\u001b[0m\u001b[0;34m\u001b[0m\u001b[0;34m\u001b[0m\u001b[0m\n\u001b[1;32m     14\u001b[0m \u001b[0;34m\u001b[0m\u001b[0m\n\u001b[0;32m---> 15\u001b[0;31m llm = HuggingFaceLLM(\n\u001b[0m\u001b[1;32m     16\u001b[0m     \u001b[0mcontext_window\u001b[0m\u001b[0;34m=\u001b[0m\u001b[0;36m4096\u001b[0m\u001b[0;34m,\u001b[0m\u001b[0;34m\u001b[0m\u001b[0;34m\u001b[0m\u001b[0m\n\u001b[1;32m     17\u001b[0m     \u001b[0mmax_new_tokens\u001b[0m\u001b[0;34m=\u001b[0m\u001b[0;36m256\u001b[0m\u001b[0;34m,\u001b[0m\u001b[0;34m\u001b[0m\u001b[0;34m\u001b[0m\u001b[0m\n",
            "\u001b[0;32m/usr/local/lib/python3.10/dist-packages/llama_index/llms/huggingface.py\u001b[0m in \u001b[0;36m__init__\u001b[0;34m(self, context_window, max_new_tokens, system_prompt, query_wrapper_prompt, tokenizer_name, model_name, model, tokenizer, device_map, stopping_ids, tokenizer_kwargs, tokenizer_outputs_to_remove, model_kwargs, generate_kwargs, callback_manager)\u001b[0m\n\u001b[1;32m    116\u001b[0m \u001b[0;34m\u001b[0m\u001b[0m\n\u001b[1;32m    117\u001b[0m         \u001b[0mmodel_kwargs\u001b[0m \u001b[0;34m=\u001b[0m \u001b[0mmodel_kwargs\u001b[0m \u001b[0;32mor\u001b[0m \u001b[0;34m{\u001b[0m\u001b[0;34m}\u001b[0m\u001b[0;34m\u001b[0m\u001b[0;34m\u001b[0m\u001b[0m\n\u001b[0;32m--> 118\u001b[0;31m         self._model = model or AutoModelForCausalLM.from_pretrained(\n\u001b[0m\u001b[1;32m    119\u001b[0m             \u001b[0mmodel_name\u001b[0m\u001b[0;34m,\u001b[0m \u001b[0mdevice_map\u001b[0m\u001b[0;34m=\u001b[0m\u001b[0mdevice_map\u001b[0m\u001b[0;34m,\u001b[0m \u001b[0;34m**\u001b[0m\u001b[0mmodel_kwargs\u001b[0m\u001b[0;34m\u001b[0m\u001b[0;34m\u001b[0m\u001b[0m\n\u001b[1;32m    120\u001b[0m         )\n",
            "\u001b[0;32m/usr/local/lib/python3.10/dist-packages/transformers/models/auto/auto_factory.py\u001b[0m in \u001b[0;36mfrom_pretrained\u001b[0;34m(cls, pretrained_model_name_or_path, *model_args, **kwargs)\u001b[0m\n\u001b[1;32m    563\u001b[0m         \u001b[0;32melif\u001b[0m \u001b[0mtype\u001b[0m\u001b[0;34m(\u001b[0m\u001b[0mconfig\u001b[0m\u001b[0;34m)\u001b[0m \u001b[0;32min\u001b[0m \u001b[0mcls\u001b[0m\u001b[0;34m.\u001b[0m\u001b[0m_model_mapping\u001b[0m\u001b[0;34m.\u001b[0m\u001b[0mkeys\u001b[0m\u001b[0;34m(\u001b[0m\u001b[0;34m)\u001b[0m\u001b[0;34m:\u001b[0m\u001b[0;34m\u001b[0m\u001b[0;34m\u001b[0m\u001b[0m\n\u001b[1;32m    564\u001b[0m             \u001b[0mmodel_class\u001b[0m \u001b[0;34m=\u001b[0m \u001b[0m_get_model_class\u001b[0m\u001b[0;34m(\u001b[0m\u001b[0mconfig\u001b[0m\u001b[0;34m,\u001b[0m \u001b[0mcls\u001b[0m\u001b[0;34m.\u001b[0m\u001b[0m_model_mapping\u001b[0m\u001b[0;34m)\u001b[0m\u001b[0;34m\u001b[0m\u001b[0;34m\u001b[0m\u001b[0m\n\u001b[0;32m--> 565\u001b[0;31m             return model_class.from_pretrained(\n\u001b[0m\u001b[1;32m    566\u001b[0m                 \u001b[0mpretrained_model_name_or_path\u001b[0m\u001b[0;34m,\u001b[0m \u001b[0;34m*\u001b[0m\u001b[0mmodel_args\u001b[0m\u001b[0;34m,\u001b[0m \u001b[0mconfig\u001b[0m\u001b[0;34m=\u001b[0m\u001b[0mconfig\u001b[0m\u001b[0;34m,\u001b[0m \u001b[0;34m**\u001b[0m\u001b[0mhub_kwargs\u001b[0m\u001b[0;34m,\u001b[0m \u001b[0;34m**\u001b[0m\u001b[0mkwargs\u001b[0m\u001b[0;34m\u001b[0m\u001b[0;34m\u001b[0m\u001b[0m\n\u001b[1;32m    567\u001b[0m             )\n",
            "\u001b[0;32m/usr/local/lib/python3.10/dist-packages/transformers/modeling_utils.py\u001b[0m in \u001b[0;36mfrom_pretrained\u001b[0;34m(cls, pretrained_model_name_or_path, config, cache_dir, ignore_mismatched_sizes, force_download, local_files_only, token, revision, use_safetensors, *model_args, **kwargs)\u001b[0m\n\u001b[1;32m   2998\u001b[0m         \u001b[0;32mif\u001b[0m \u001b[0mis_sharded\u001b[0m\u001b[0;34m:\u001b[0m\u001b[0;34m\u001b[0m\u001b[0;34m\u001b[0m\u001b[0m\n\u001b[1;32m   2999\u001b[0m             \u001b[0;31m# rsolved_archive_file becomes a list of files that point to the different checkpoint shards in this case.\u001b[0m\u001b[0;34m\u001b[0m\u001b[0;34m\u001b[0m\u001b[0m\n\u001b[0;32m-> 3000\u001b[0;31m             resolved_archive_file, sharded_metadata = get_checkpoint_shard_files(\n\u001b[0m\u001b[1;32m   3001\u001b[0m                 \u001b[0mpretrained_model_name_or_path\u001b[0m\u001b[0;34m,\u001b[0m\u001b[0;34m\u001b[0m\u001b[0;34m\u001b[0m\u001b[0m\n\u001b[1;32m   3002\u001b[0m                 \u001b[0mresolved_archive_file\u001b[0m\u001b[0;34m,\u001b[0m\u001b[0;34m\u001b[0m\u001b[0;34m\u001b[0m\u001b[0m\n",
            "\u001b[0;32m/usr/local/lib/python3.10/dist-packages/transformers/utils/hub.py\u001b[0m in \u001b[0;36mget_checkpoint_shard_files\u001b[0;34m(pretrained_model_name_or_path, index_filename, cache_dir, force_download, proxies, resume_download, local_files_only, token, user_agent, revision, subfolder, _commit_hash, **deprecated_kwargs)\u001b[0m\n\u001b[1;32m   1038\u001b[0m         \u001b[0;32mtry\u001b[0m\u001b[0;34m:\u001b[0m\u001b[0;34m\u001b[0m\u001b[0;34m\u001b[0m\u001b[0m\n\u001b[1;32m   1039\u001b[0m             \u001b[0;31m# Load from URL\u001b[0m\u001b[0;34m\u001b[0m\u001b[0;34m\u001b[0m\u001b[0m\n\u001b[0;32m-> 1040\u001b[0;31m             cached_filename = cached_file(\n\u001b[0m\u001b[1;32m   1041\u001b[0m                 \u001b[0mpretrained_model_name_or_path\u001b[0m\u001b[0;34m,\u001b[0m\u001b[0;34m\u001b[0m\u001b[0;34m\u001b[0m\u001b[0m\n\u001b[1;32m   1042\u001b[0m                 \u001b[0mshard_filename\u001b[0m\u001b[0;34m,\u001b[0m\u001b[0;34m\u001b[0m\u001b[0;34m\u001b[0m\u001b[0m\n",
            "\u001b[0;32m/usr/local/lib/python3.10/dist-packages/transformers/utils/hub.py\u001b[0m in \u001b[0;36mcached_file\u001b[0;34m(path_or_repo_id, filename, cache_dir, force_download, resume_download, proxies, token, revision, local_files_only, subfolder, repo_type, user_agent, _raise_exceptions_for_missing_entries, _raise_exceptions_for_connection_errors, _commit_hash, **deprecated_kwargs)\u001b[0m\n\u001b[1;32m    427\u001b[0m     \u001b[0;32mtry\u001b[0m\u001b[0;34m:\u001b[0m\u001b[0;34m\u001b[0m\u001b[0;34m\u001b[0m\u001b[0m\n\u001b[1;32m    428\u001b[0m         \u001b[0;31m# Load from URL or cache if already cached\u001b[0m\u001b[0;34m\u001b[0m\u001b[0;34m\u001b[0m\u001b[0m\n\u001b[0;32m--> 429\u001b[0;31m         resolved_file = hf_hub_download(\n\u001b[0m\u001b[1;32m    430\u001b[0m             \u001b[0mpath_or_repo_id\u001b[0m\u001b[0;34m,\u001b[0m\u001b[0;34m\u001b[0m\u001b[0;34m\u001b[0m\u001b[0m\n\u001b[1;32m    431\u001b[0m             \u001b[0mfilename\u001b[0m\u001b[0;34m,\u001b[0m\u001b[0;34m\u001b[0m\u001b[0;34m\u001b[0m\u001b[0m\n",
            "\u001b[0;32m/usr/local/lib/python3.10/dist-packages/huggingface_hub/utils/_validators.py\u001b[0m in \u001b[0;36m_inner_fn\u001b[0;34m(*args, **kwargs)\u001b[0m\n\u001b[1;32m    116\u001b[0m             \u001b[0mkwargs\u001b[0m \u001b[0;34m=\u001b[0m \u001b[0msmoothly_deprecate_use_auth_token\u001b[0m\u001b[0;34m(\u001b[0m\u001b[0mfn_name\u001b[0m\u001b[0;34m=\u001b[0m\u001b[0mfn\u001b[0m\u001b[0;34m.\u001b[0m\u001b[0m__name__\u001b[0m\u001b[0;34m,\u001b[0m \u001b[0mhas_token\u001b[0m\u001b[0;34m=\u001b[0m\u001b[0mhas_token\u001b[0m\u001b[0;34m,\u001b[0m \u001b[0mkwargs\u001b[0m\u001b[0;34m=\u001b[0m\u001b[0mkwargs\u001b[0m\u001b[0;34m)\u001b[0m\u001b[0;34m\u001b[0m\u001b[0;34m\u001b[0m\u001b[0m\n\u001b[1;32m    117\u001b[0m \u001b[0;34m\u001b[0m\u001b[0m\n\u001b[0;32m--> 118\u001b[0;31m         \u001b[0;32mreturn\u001b[0m \u001b[0mfn\u001b[0m\u001b[0;34m(\u001b[0m\u001b[0;34m*\u001b[0m\u001b[0margs\u001b[0m\u001b[0;34m,\u001b[0m \u001b[0;34m**\u001b[0m\u001b[0mkwargs\u001b[0m\u001b[0;34m)\u001b[0m\u001b[0;34m\u001b[0m\u001b[0;34m\u001b[0m\u001b[0m\n\u001b[0m\u001b[1;32m    119\u001b[0m \u001b[0;34m\u001b[0m\u001b[0m\n\u001b[1;32m    120\u001b[0m     \u001b[0;32mreturn\u001b[0m \u001b[0m_inner_fn\u001b[0m  \u001b[0;31m# type: ignore\u001b[0m\u001b[0;34m\u001b[0m\u001b[0;34m\u001b[0m\u001b[0m\n",
            "\u001b[0;32m/usr/local/lib/python3.10/dist-packages/huggingface_hub/file_download.py\u001b[0m in \u001b[0;36mhf_hub_download\u001b[0;34m(repo_id, filename, subfolder, repo_type, revision, endpoint, library_name, library_version, cache_dir, local_dir, local_dir_use_symlinks, user_agent, force_download, force_filename, proxies, etag_timeout, resume_download, token, local_files_only, legacy_cache_layout)\u001b[0m\n\u001b[1;32m   1429\u001b[0m                     \u001b[0m_check_disk_space\u001b[0m\u001b[0;34m(\u001b[0m\u001b[0mexpected_size\u001b[0m\u001b[0;34m,\u001b[0m \u001b[0mlocal_dir\u001b[0m\u001b[0;34m)\u001b[0m\u001b[0;34m\u001b[0m\u001b[0;34m\u001b[0m\u001b[0m\n\u001b[1;32m   1430\u001b[0m \u001b[0;34m\u001b[0m\u001b[0m\n\u001b[0;32m-> 1431\u001b[0;31m             http_get(\n\u001b[0m\u001b[1;32m   1432\u001b[0m                 \u001b[0murl_to_download\u001b[0m\u001b[0;34m,\u001b[0m\u001b[0;34m\u001b[0m\u001b[0;34m\u001b[0m\u001b[0m\n\u001b[1;32m   1433\u001b[0m                 \u001b[0mtemp_file\u001b[0m\u001b[0;34m,\u001b[0m\u001b[0;34m\u001b[0m\u001b[0;34m\u001b[0m\u001b[0m\n",
            "\u001b[0;32m/usr/local/lib/python3.10/dist-packages/huggingface_hub/file_download.py\u001b[0m in \u001b[0;36mhttp_get\u001b[0;34m(url, temp_file, proxies, resume_size, headers, timeout, max_retries, expected_size)\u001b[0m\n\u001b[1;32m    549\u001b[0m         \u001b[0mdisable\u001b[0m\u001b[0;34m=\u001b[0m\u001b[0mbool\u001b[0m\u001b[0;34m(\u001b[0m\u001b[0mlogger\u001b[0m\u001b[0;34m.\u001b[0m\u001b[0mgetEffectiveLevel\u001b[0m\u001b[0;34m(\u001b[0m\u001b[0;34m)\u001b[0m \u001b[0;34m==\u001b[0m \u001b[0mlogging\u001b[0m\u001b[0;34m.\u001b[0m\u001b[0mNOTSET\u001b[0m\u001b[0;34m)\u001b[0m\u001b[0;34m,\u001b[0m\u001b[0;34m\u001b[0m\u001b[0;34m\u001b[0m\u001b[0m\n\u001b[1;32m    550\u001b[0m     )\n\u001b[0;32m--> 551\u001b[0;31m     \u001b[0;32mfor\u001b[0m \u001b[0mchunk\u001b[0m \u001b[0;32min\u001b[0m \u001b[0mr\u001b[0m\u001b[0;34m.\u001b[0m\u001b[0miter_content\u001b[0m\u001b[0;34m(\u001b[0m\u001b[0mchunk_size\u001b[0m\u001b[0;34m=\u001b[0m\u001b[0;36m10\u001b[0m \u001b[0;34m*\u001b[0m \u001b[0;36m1024\u001b[0m \u001b[0;34m*\u001b[0m \u001b[0;36m1024\u001b[0m\u001b[0;34m)\u001b[0m\u001b[0;34m:\u001b[0m\u001b[0;34m\u001b[0m\u001b[0;34m\u001b[0m\u001b[0m\n\u001b[0m\u001b[1;32m    552\u001b[0m         \u001b[0;32mif\u001b[0m \u001b[0mchunk\u001b[0m\u001b[0;34m:\u001b[0m  \u001b[0;31m# filter out keep-alive new chunks\u001b[0m\u001b[0;34m\u001b[0m\u001b[0;34m\u001b[0m\u001b[0m\n\u001b[1;32m    553\u001b[0m             \u001b[0mprogress\u001b[0m\u001b[0;34m.\u001b[0m\u001b[0mupdate\u001b[0m\u001b[0;34m(\u001b[0m\u001b[0mlen\u001b[0m\u001b[0;34m(\u001b[0m\u001b[0mchunk\u001b[0m\u001b[0;34m)\u001b[0m\u001b[0;34m)\u001b[0m\u001b[0;34m\u001b[0m\u001b[0;34m\u001b[0m\u001b[0m\n",
            "\u001b[0;32m/usr/local/lib/python3.10/dist-packages/requests/models.py\u001b[0m in \u001b[0;36mgenerate\u001b[0;34m()\u001b[0m\n\u001b[1;32m    814\u001b[0m             \u001b[0;32mif\u001b[0m \u001b[0mhasattr\u001b[0m\u001b[0;34m(\u001b[0m\u001b[0mself\u001b[0m\u001b[0;34m.\u001b[0m\u001b[0mraw\u001b[0m\u001b[0;34m,\u001b[0m \u001b[0;34m\"stream\"\u001b[0m\u001b[0;34m)\u001b[0m\u001b[0;34m:\u001b[0m\u001b[0;34m\u001b[0m\u001b[0;34m\u001b[0m\u001b[0m\n\u001b[1;32m    815\u001b[0m                 \u001b[0;32mtry\u001b[0m\u001b[0;34m:\u001b[0m\u001b[0;34m\u001b[0m\u001b[0;34m\u001b[0m\u001b[0m\n\u001b[0;32m--> 816\u001b[0;31m                     \u001b[0;32myield\u001b[0m \u001b[0;32mfrom\u001b[0m \u001b[0mself\u001b[0m\u001b[0;34m.\u001b[0m\u001b[0mraw\u001b[0m\u001b[0;34m.\u001b[0m\u001b[0mstream\u001b[0m\u001b[0;34m(\u001b[0m\u001b[0mchunk_size\u001b[0m\u001b[0;34m,\u001b[0m \u001b[0mdecode_content\u001b[0m\u001b[0;34m=\u001b[0m\u001b[0;32mTrue\u001b[0m\u001b[0;34m)\u001b[0m\u001b[0;34m\u001b[0m\u001b[0;34m\u001b[0m\u001b[0m\n\u001b[0m\u001b[1;32m    817\u001b[0m                 \u001b[0;32mexcept\u001b[0m \u001b[0mProtocolError\u001b[0m \u001b[0;32mas\u001b[0m \u001b[0me\u001b[0m\u001b[0;34m:\u001b[0m\u001b[0;34m\u001b[0m\u001b[0;34m\u001b[0m\u001b[0m\n\u001b[1;32m    818\u001b[0m                     \u001b[0;32mraise\u001b[0m \u001b[0mChunkedEncodingError\u001b[0m\u001b[0;34m(\u001b[0m\u001b[0me\u001b[0m\u001b[0;34m)\u001b[0m\u001b[0;34m\u001b[0m\u001b[0;34m\u001b[0m\u001b[0m\n",
            "\u001b[0;32m/usr/local/lib/python3.10/dist-packages/urllib3/response.py\u001b[0m in \u001b[0;36mstream\u001b[0;34m(self, amt, decode_content)\u001b[0m\n\u001b[1;32m    626\u001b[0m         \u001b[0;32melse\u001b[0m\u001b[0;34m:\u001b[0m\u001b[0;34m\u001b[0m\u001b[0;34m\u001b[0m\u001b[0m\n\u001b[1;32m    627\u001b[0m             \u001b[0;32mwhile\u001b[0m \u001b[0;32mnot\u001b[0m \u001b[0mis_fp_closed\u001b[0m\u001b[0;34m(\u001b[0m\u001b[0mself\u001b[0m\u001b[0;34m.\u001b[0m\u001b[0m_fp\u001b[0m\u001b[0;34m)\u001b[0m\u001b[0;34m:\u001b[0m\u001b[0;34m\u001b[0m\u001b[0;34m\u001b[0m\u001b[0m\n\u001b[0;32m--> 628\u001b[0;31m                 \u001b[0mdata\u001b[0m \u001b[0;34m=\u001b[0m \u001b[0mself\u001b[0m\u001b[0;34m.\u001b[0m\u001b[0mread\u001b[0m\u001b[0;34m(\u001b[0m\u001b[0mamt\u001b[0m\u001b[0;34m=\u001b[0m\u001b[0mamt\u001b[0m\u001b[0;34m,\u001b[0m \u001b[0mdecode_content\u001b[0m\u001b[0;34m=\u001b[0m\u001b[0mdecode_content\u001b[0m\u001b[0;34m)\u001b[0m\u001b[0;34m\u001b[0m\u001b[0;34m\u001b[0m\u001b[0m\n\u001b[0m\u001b[1;32m    629\u001b[0m \u001b[0;34m\u001b[0m\u001b[0m\n\u001b[1;32m    630\u001b[0m                 \u001b[0;32mif\u001b[0m \u001b[0mdata\u001b[0m\u001b[0;34m:\u001b[0m\u001b[0;34m\u001b[0m\u001b[0;34m\u001b[0m\u001b[0m\n",
            "\u001b[0;32m/usr/local/lib/python3.10/dist-packages/urllib3/response.py\u001b[0m in \u001b[0;36mread\u001b[0;34m(self, amt, decode_content, cache_content)\u001b[0m\n\u001b[1;32m    565\u001b[0m \u001b[0;34m\u001b[0m\u001b[0m\n\u001b[1;32m    566\u001b[0m         \u001b[0;32mwith\u001b[0m \u001b[0mself\u001b[0m\u001b[0;34m.\u001b[0m\u001b[0m_error_catcher\u001b[0m\u001b[0;34m(\u001b[0m\u001b[0;34m)\u001b[0m\u001b[0;34m:\u001b[0m\u001b[0;34m\u001b[0m\u001b[0;34m\u001b[0m\u001b[0m\n\u001b[0;32m--> 567\u001b[0;31m             \u001b[0mdata\u001b[0m \u001b[0;34m=\u001b[0m \u001b[0mself\u001b[0m\u001b[0;34m.\u001b[0m\u001b[0m_fp_read\u001b[0m\u001b[0;34m(\u001b[0m\u001b[0mamt\u001b[0m\u001b[0;34m)\u001b[0m \u001b[0;32mif\u001b[0m \u001b[0;32mnot\u001b[0m \u001b[0mfp_closed\u001b[0m \u001b[0;32melse\u001b[0m \u001b[0;34mb\"\"\u001b[0m\u001b[0;34m\u001b[0m\u001b[0;34m\u001b[0m\u001b[0m\n\u001b[0m\u001b[1;32m    568\u001b[0m             \u001b[0;32mif\u001b[0m \u001b[0mamt\u001b[0m \u001b[0;32mis\u001b[0m \u001b[0;32mNone\u001b[0m\u001b[0;34m:\u001b[0m\u001b[0;34m\u001b[0m\u001b[0;34m\u001b[0m\u001b[0m\n\u001b[1;32m    569\u001b[0m                 \u001b[0mflush_decoder\u001b[0m \u001b[0;34m=\u001b[0m \u001b[0;32mTrue\u001b[0m\u001b[0;34m\u001b[0m\u001b[0;34m\u001b[0m\u001b[0m\n",
            "\u001b[0;32m/usr/local/lib/python3.10/dist-packages/urllib3/response.py\u001b[0m in \u001b[0;36m_fp_read\u001b[0;34m(self, amt)\u001b[0m\n\u001b[1;32m    531\u001b[0m         \u001b[0;32melse\u001b[0m\u001b[0;34m:\u001b[0m\u001b[0;34m\u001b[0m\u001b[0;34m\u001b[0m\u001b[0m\n\u001b[1;32m    532\u001b[0m             \u001b[0;31m# StringIO doesn't like amt=None\u001b[0m\u001b[0;34m\u001b[0m\u001b[0;34m\u001b[0m\u001b[0m\n\u001b[0;32m--> 533\u001b[0;31m             \u001b[0;32mreturn\u001b[0m \u001b[0mself\u001b[0m\u001b[0;34m.\u001b[0m\u001b[0m_fp\u001b[0m\u001b[0;34m.\u001b[0m\u001b[0mread\u001b[0m\u001b[0;34m(\u001b[0m\u001b[0mamt\u001b[0m\u001b[0;34m)\u001b[0m \u001b[0;32mif\u001b[0m \u001b[0mamt\u001b[0m \u001b[0;32mis\u001b[0m \u001b[0;32mnot\u001b[0m \u001b[0;32mNone\u001b[0m \u001b[0;32melse\u001b[0m \u001b[0mself\u001b[0m\u001b[0;34m.\u001b[0m\u001b[0m_fp\u001b[0m\u001b[0;34m.\u001b[0m\u001b[0mread\u001b[0m\u001b[0;34m(\u001b[0m\u001b[0;34m)\u001b[0m\u001b[0;34m\u001b[0m\u001b[0;34m\u001b[0m\u001b[0m\n\u001b[0m\u001b[1;32m    534\u001b[0m \u001b[0;34m\u001b[0m\u001b[0m\n\u001b[1;32m    535\u001b[0m     \u001b[0;32mdef\u001b[0m \u001b[0mread\u001b[0m\u001b[0;34m(\u001b[0m\u001b[0mself\u001b[0m\u001b[0;34m,\u001b[0m \u001b[0mamt\u001b[0m\u001b[0;34m=\u001b[0m\u001b[0;32mNone\u001b[0m\u001b[0;34m,\u001b[0m \u001b[0mdecode_content\u001b[0m\u001b[0;34m=\u001b[0m\u001b[0;32mNone\u001b[0m\u001b[0;34m,\u001b[0m \u001b[0mcache_content\u001b[0m\u001b[0;34m=\u001b[0m\u001b[0;32mFalse\u001b[0m\u001b[0;34m)\u001b[0m\u001b[0;34m:\u001b[0m\u001b[0;34m\u001b[0m\u001b[0;34m\u001b[0m\u001b[0m\n",
            "\u001b[0;32m/usr/lib/python3.10/http/client.py\u001b[0m in \u001b[0;36mread\u001b[0;34m(self, amt)\u001b[0m\n\u001b[1;32m    464\u001b[0m                 \u001b[0;31m# clip the read to the \"end of response\"\u001b[0m\u001b[0;34m\u001b[0m\u001b[0;34m\u001b[0m\u001b[0m\n\u001b[1;32m    465\u001b[0m                 \u001b[0mamt\u001b[0m \u001b[0;34m=\u001b[0m \u001b[0mself\u001b[0m\u001b[0;34m.\u001b[0m\u001b[0mlength\u001b[0m\u001b[0;34m\u001b[0m\u001b[0;34m\u001b[0m\u001b[0m\n\u001b[0;32m--> 466\u001b[0;31m             \u001b[0ms\u001b[0m \u001b[0;34m=\u001b[0m \u001b[0mself\u001b[0m\u001b[0;34m.\u001b[0m\u001b[0mfp\u001b[0m\u001b[0;34m.\u001b[0m\u001b[0mread\u001b[0m\u001b[0;34m(\u001b[0m\u001b[0mamt\u001b[0m\u001b[0;34m)\u001b[0m\u001b[0;34m\u001b[0m\u001b[0;34m\u001b[0m\u001b[0m\n\u001b[0m\u001b[1;32m    467\u001b[0m             \u001b[0;32mif\u001b[0m \u001b[0;32mnot\u001b[0m \u001b[0ms\u001b[0m \u001b[0;32mand\u001b[0m \u001b[0mamt\u001b[0m\u001b[0;34m:\u001b[0m\u001b[0;34m\u001b[0m\u001b[0;34m\u001b[0m\u001b[0m\n\u001b[1;32m    468\u001b[0m                 \u001b[0;31m# Ideally, we would raise IncompleteRead if the content-length\u001b[0m\u001b[0;34m\u001b[0m\u001b[0;34m\u001b[0m\u001b[0m\n",
            "\u001b[0;32m/usr/lib/python3.10/socket.py\u001b[0m in \u001b[0;36mreadinto\u001b[0;34m(self, b)\u001b[0m\n\u001b[1;32m    703\u001b[0m         \u001b[0;32mwhile\u001b[0m \u001b[0;32mTrue\u001b[0m\u001b[0;34m:\u001b[0m\u001b[0;34m\u001b[0m\u001b[0;34m\u001b[0m\u001b[0m\n\u001b[1;32m    704\u001b[0m             \u001b[0;32mtry\u001b[0m\u001b[0;34m:\u001b[0m\u001b[0;34m\u001b[0m\u001b[0;34m\u001b[0m\u001b[0m\n\u001b[0;32m--> 705\u001b[0;31m                 \u001b[0;32mreturn\u001b[0m \u001b[0mself\u001b[0m\u001b[0;34m.\u001b[0m\u001b[0m_sock\u001b[0m\u001b[0;34m.\u001b[0m\u001b[0mrecv_into\u001b[0m\u001b[0;34m(\u001b[0m\u001b[0mb\u001b[0m\u001b[0;34m)\u001b[0m\u001b[0;34m\u001b[0m\u001b[0;34m\u001b[0m\u001b[0m\n\u001b[0m\u001b[1;32m    706\u001b[0m             \u001b[0;32mexcept\u001b[0m \u001b[0mtimeout\u001b[0m\u001b[0;34m:\u001b[0m\u001b[0;34m\u001b[0m\u001b[0;34m\u001b[0m\u001b[0m\n\u001b[1;32m    707\u001b[0m                 \u001b[0mself\u001b[0m\u001b[0;34m.\u001b[0m\u001b[0m_timeout_occurred\u001b[0m \u001b[0;34m=\u001b[0m \u001b[0;32mTrue\u001b[0m\u001b[0;34m\u001b[0m\u001b[0;34m\u001b[0m\u001b[0m\n",
            "\u001b[0;32m/usr/lib/python3.10/ssl.py\u001b[0m in \u001b[0;36mrecv_into\u001b[0;34m(self, buffer, nbytes, flags)\u001b[0m\n\u001b[1;32m   1272\u001b[0m                   \u001b[0;34m\"non-zero flags not allowed in calls to recv_into() on %s\"\u001b[0m \u001b[0;34m%\u001b[0m\u001b[0;34m\u001b[0m\u001b[0;34m\u001b[0m\u001b[0m\n\u001b[1;32m   1273\u001b[0m                   self.__class__)\n\u001b[0;32m-> 1274\u001b[0;31m             \u001b[0;32mreturn\u001b[0m \u001b[0mself\u001b[0m\u001b[0;34m.\u001b[0m\u001b[0mread\u001b[0m\u001b[0;34m(\u001b[0m\u001b[0mnbytes\u001b[0m\u001b[0;34m,\u001b[0m \u001b[0mbuffer\u001b[0m\u001b[0;34m)\u001b[0m\u001b[0;34m\u001b[0m\u001b[0;34m\u001b[0m\u001b[0m\n\u001b[0m\u001b[1;32m   1275\u001b[0m         \u001b[0;32melse\u001b[0m\u001b[0;34m:\u001b[0m\u001b[0;34m\u001b[0m\u001b[0;34m\u001b[0m\u001b[0m\n\u001b[1;32m   1276\u001b[0m             \u001b[0;32mreturn\u001b[0m \u001b[0msuper\u001b[0m\u001b[0;34m(\u001b[0m\u001b[0;34m)\u001b[0m\u001b[0;34m.\u001b[0m\u001b[0mrecv_into\u001b[0m\u001b[0;34m(\u001b[0m\u001b[0mbuffer\u001b[0m\u001b[0;34m,\u001b[0m \u001b[0mnbytes\u001b[0m\u001b[0;34m,\u001b[0m \u001b[0mflags\u001b[0m\u001b[0;34m)\u001b[0m\u001b[0;34m\u001b[0m\u001b[0;34m\u001b[0m\u001b[0m\n",
            "\u001b[0;32m/usr/lib/python3.10/ssl.py\u001b[0m in \u001b[0;36mread\u001b[0;34m(self, len, buffer)\u001b[0m\n\u001b[1;32m   1128\u001b[0m         \u001b[0;32mtry\u001b[0m\u001b[0;34m:\u001b[0m\u001b[0;34m\u001b[0m\u001b[0;34m\u001b[0m\u001b[0m\n\u001b[1;32m   1129\u001b[0m             \u001b[0;32mif\u001b[0m \u001b[0mbuffer\u001b[0m \u001b[0;32mis\u001b[0m \u001b[0;32mnot\u001b[0m \u001b[0;32mNone\u001b[0m\u001b[0;34m:\u001b[0m\u001b[0;34m\u001b[0m\u001b[0;34m\u001b[0m\u001b[0m\n\u001b[0;32m-> 1130\u001b[0;31m                 \u001b[0;32mreturn\u001b[0m \u001b[0mself\u001b[0m\u001b[0;34m.\u001b[0m\u001b[0m_sslobj\u001b[0m\u001b[0;34m.\u001b[0m\u001b[0mread\u001b[0m\u001b[0;34m(\u001b[0m\u001b[0mlen\u001b[0m\u001b[0;34m,\u001b[0m \u001b[0mbuffer\u001b[0m\u001b[0;34m)\u001b[0m\u001b[0;34m\u001b[0m\u001b[0;34m\u001b[0m\u001b[0m\n\u001b[0m\u001b[1;32m   1131\u001b[0m             \u001b[0;32melse\u001b[0m\u001b[0;34m:\u001b[0m\u001b[0;34m\u001b[0m\u001b[0;34m\u001b[0m\u001b[0m\n\u001b[1;32m   1132\u001b[0m                 \u001b[0;32mreturn\u001b[0m \u001b[0mself\u001b[0m\u001b[0;34m.\u001b[0m\u001b[0m_sslobj\u001b[0m\u001b[0;34m.\u001b[0m\u001b[0mread\u001b[0m\u001b[0;34m(\u001b[0m\u001b[0mlen\u001b[0m\u001b[0;34m)\u001b[0m\u001b[0;34m\u001b[0m\u001b[0;34m\u001b[0m\u001b[0m\n",
            "\u001b[0;31mKeyboardInterrupt\u001b[0m: "
          ]
        }
      ]
    },
    {
      "cell_type": "markdown",
      "source": [
        "![image.png](data:image/png;base64,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)"
      ],
      "metadata": {
        "id": "tatLI1Wi1U03"
      }
    },
    {
      "cell_type": "code",
      "source": [
        "# configure service context\n",
        "service_context = ServiceContext.from_defaults(\n",
        "    chunk_size=1024,\n",
        "    llm=llm,\n",
        "    #embed_model=\"local\"\n",
        ")"
      ],
      "metadata": {
        "id": "S9rTqh7bwLtT"
      },
      "execution_count": null,
      "outputs": []
    },
    {
      "cell_type": "code",
      "source": [
        "index = VectorStoreIndex.from_documents(documents, service_context=service_context)"
      ],
      "metadata": {
        "id": "eSPPKYkRcarv"
      },
      "execution_count": null,
      "outputs": []
    }
  ]
}